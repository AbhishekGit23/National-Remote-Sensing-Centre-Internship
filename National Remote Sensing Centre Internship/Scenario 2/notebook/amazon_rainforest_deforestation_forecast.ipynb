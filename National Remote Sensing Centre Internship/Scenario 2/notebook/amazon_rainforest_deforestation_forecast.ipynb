{
  "cells": [
    {
      "cell_type": "markdown",
      "source": [
        "# Scenario 2: CROP RECOMMENDATION SYSTEM\n",
        "Forest Department of Karnataka is working to protect endangered\n",
        "species in a tropical rainforest. They have access to a dataset of deforestation\n",
        "events and a shapefile of the rainforest boundaries. They want to identify\n",
        "areas of the rainforest that are most at risk of deforestation and focus their\n",
        "conservation efforts on those areas. Develop a model to solve the problem using\n",
        "Python and also explain your solution with complete documentation. Upload the solution\n",
        "ode and documentation in the GitHub Public Repository. Share the code,\n",
        "visualization, GitHub Link and other stuff in the Google Classroom."
      ],
      "metadata": {
        "id": "Ho5MYgfKj1H-"
      },
      "id": "Ho5MYgfKj1H-"
    },
    {
      "cell_type": "markdown",
      "id": "a67c0ec5",
      "metadata": {
        "papermill": {
          "duration": 0.015617,
          "end_time": "2023-07-02T20:37:34.734735",
          "exception": false,
          "start_time": "2023-07-02T20:37:34.719118",
          "status": "completed"
        },
        "tags": [],
        "id": "a67c0ec5"
      },
      "source": [
        "# Introduction\n",
        "\n",
        "This dataset contain historical satellite data about deforestaion occured in Amazônia. Basically it contains deforestation rates in counties located in Amazônia rainforest. The data was taken from the brazilian National Institute for Space Research (INPE) more specifically I took the data from a data lake created by INPE on the BigQuery.The dataset is available for access [here](https://www.kaggle.com/datasets/diegosilvadefrana/brazilian-deforestation-from-2000-to-2021).\n",
        "\n",
        "* Counties.csv\n",
        "\n",
        "| Column Name | Type | Description |\n",
        "| --- | --- | --- |\n",
        "| Nome_Microrregião | string | County Name |\n",
        "| Código Município Completo | int | County Id which the first two numbers represent the state of which the county is located |\n",
        "\n",
        "--------------------------------------------------------------------\n",
        "\n",
        "\n",
        "* data.csv\n",
        "| Column Name | Type | Description |\n",
        "| --- | --- | --- |\n",
        "| ano | int | Year |\n",
        "| id_municipio | int | County Id it is the same as the one located in the table Counties.csv |\n",
        "| area | int | Total area measured |\n",
        "| desmatado | float | Total area deforestaed |\n",
        "| incremento | float | Area measured after thus it is a increment to the previous measure|\n",
        "| floresta | float | total forest area |\n",
        "| nuvem | float | area covered by the clouds |\n",
        "| nao_observado | float | non-measured area |\n",
        "| nao_floresta | float | non-forest area  |\n",
        "| hidrografia | float | hydrographic area |\n",
        "\n",
        "----------------------------------------------------------\n",
        "* states.csv\n",
        "\n",
        "| Column Name | Type | Description |\n",
        "| --- | --- | --- |\n",
        "| estados_ido | int | State id |\n",
        "| Estados | int | State name |"
      ]
    },
    {
      "cell_type": "code",
      "source": [
        "import pandas as pd\n",
        "import numpy as np\n",
        "from collections import Counter\n",
        "import seaborn as sns\n",
        "import matplotlib.pyplot as plt\n",
        "from sklearn.preprocessing import StandardScaler\n",
        "from sklearn.pipeline import Pipeline\n",
        "from sklearn.neighbors import KNeighborsRegressor\n",
        "from sklearn.metrics import accuracy_score\n",
        "from sklearn.model_selection import GridSearchCV\n",
        "from sklearn.linear_model import SGDRegressor\n",
        "from sklearn.ensemble import BaggingRegressor\n",
        "from sklearn.ensemble import VotingRegressor\n",
        "from sklearn.preprocessing import LabelEncoder\n",
        "from sklearn.model_selection import train_test_split\n",
        "from sklearn import metrics"
      ],
      "metadata": {
        "id": "2U-WBfIHj49F"
      },
      "id": "2U-WBfIHj49F",
      "execution_count": 1,
      "outputs": []
    },
    {
      "cell_type": "markdown",
      "id": "de5978c5",
      "metadata": {
        "papermill": {
          "duration": 0.015095,
          "end_time": "2023-07-02T20:37:34.765370",
          "exception": false,
          "start_time": "2023-07-02T20:37:34.750275",
          "status": "completed"
        },
        "tags": [],
        "id": "de5978c5"
      },
      "source": [
        "# Data Loading"
      ]
    },
    {
      "cell_type": "code",
      "source": [
        "from google.colab import drive\n",
        "drive.mount('/content/drive')"
      ],
      "metadata": {
        "colab": {
          "base_uri": "https://localhost:8080/",
          "height": 0
        },
        "id": "iowElxZQkoow",
        "outputId": "d4130268-77af-482d-b7e6-00bdd7095486"
      },
      "id": "iowElxZQkoow",
      "execution_count": 2,
      "outputs": [
        {
          "output_type": "stream",
          "name": "stdout",
          "text": [
            "Mounted at /content/drive\n"
          ]
        }
      ]
    },
    {
      "cell_type": "code",
      "execution_count": 4,
      "id": "0cb6fb80",
      "metadata": {
        "execution": {
          "iopub.execute_input": "2023-07-02T20:37:34.799136Z",
          "iopub.status.busy": "2023-07-02T20:37:34.798702Z",
          "iopub.status.idle": "2023-07-02T20:37:34.882827Z",
          "shell.execute_reply": "2023-07-02T20:37:34.881471Z"
        },
        "papermill": {
          "duration": 0.10512,
          "end_time": "2023-07-02T20:37:34.885942",
          "exception": false,
          "start_time": "2023-07-02T20:37:34.780822",
          "status": "completed"
        },
        "tags": [],
        "id": "0cb6fb80"
      },
      "outputs": [],
      "source": [
        "df = pd.read_csv(\"/content/drive/MyDrive/deforestationdata/data.csv\")\n",
        "mun = pd.read_csv(\"/content/drive/MyDrive/deforestationdata/Counties.csv\",sep = ';')\n",
        "states = pd.read_csv(\"/content/drive/MyDrive/deforestationdata/states.csv\")"
      ]
    },
    {
      "cell_type": "code",
      "source": [
        "df.head()"
      ],
      "metadata": {
        "colab": {
          "base_uri": "https://localhost:8080/",
          "height": 206
        },
        "id": "2UOEeqxblkQC",
        "outputId": "0327084c-c6bd-4dd8-a6eb-ed79ddc35508"
      },
      "id": "2UOEeqxblkQC",
      "execution_count": 32,
      "outputs": [
        {
          "output_type": "execute_result",
          "data": {
            "text/plain": [
              "    ano  id_municipio  area  desmatado  incremento  floresta  nuvem  \\\n",
              "0  2000       1100015  7137     1761.1         NaN    3639.6    0.0   \n",
              "1  2000       1100023  4481     2661.2         NaN    1730.0    0.0   \n",
              "2  2000       1100031  1322      851.2         NaN     455.2    0.0   \n",
              "3  2000       1100049  3821     2311.3         NaN    1477.7    0.0   \n",
              "4  2000       1100056  2805      731.3         NaN     829.3    0.0   \n",
              "\n",
              "   nao_observado  nao_floresta  hidrografia         municipios   estados  \n",
              "0            6.1        1708.0         22.2             Cacoal  Rondônia  \n",
              "1            0.0          89.6          0.2          Ariquemes  Rondônia  \n",
              "2            0.6          11.3          3.7  Colorado do Oeste  Rondônia  \n",
              "3            0.0          26.2          5.8             Cacoal  Rondônia  \n",
              "4            0.0        1244.4          0.0  Colorado do Oeste  Rondônia  "
            ],
            "text/html": [
              "\n",
              "  <div id=\"df-ca04b413-180f-430a-ba53-68676d4e1de4\" class=\"colab-df-container\">\n",
              "    <div>\n",
              "<style scoped>\n",
              "    .dataframe tbody tr th:only-of-type {\n",
              "        vertical-align: middle;\n",
              "    }\n",
              "\n",
              "    .dataframe tbody tr th {\n",
              "        vertical-align: top;\n",
              "    }\n",
              "\n",
              "    .dataframe thead th {\n",
              "        text-align: right;\n",
              "    }\n",
              "</style>\n",
              "<table border=\"1\" class=\"dataframe\">\n",
              "  <thead>\n",
              "    <tr style=\"text-align: right;\">\n",
              "      <th></th>\n",
              "      <th>ano</th>\n",
              "      <th>id_municipio</th>\n",
              "      <th>area</th>\n",
              "      <th>desmatado</th>\n",
              "      <th>incremento</th>\n",
              "      <th>floresta</th>\n",
              "      <th>nuvem</th>\n",
              "      <th>nao_observado</th>\n",
              "      <th>nao_floresta</th>\n",
              "      <th>hidrografia</th>\n",
              "      <th>municipios</th>\n",
              "      <th>estados</th>\n",
              "    </tr>\n",
              "  </thead>\n",
              "  <tbody>\n",
              "    <tr>\n",
              "      <th>0</th>\n",
              "      <td>2000</td>\n",
              "      <td>1100015</td>\n",
              "      <td>7137</td>\n",
              "      <td>1761.1</td>\n",
              "      <td>NaN</td>\n",
              "      <td>3639.6</td>\n",
              "      <td>0.0</td>\n",
              "      <td>6.1</td>\n",
              "      <td>1708.0</td>\n",
              "      <td>22.2</td>\n",
              "      <td>Cacoal</td>\n",
              "      <td>Rondônia</td>\n",
              "    </tr>\n",
              "    <tr>\n",
              "      <th>1</th>\n",
              "      <td>2000</td>\n",
              "      <td>1100023</td>\n",
              "      <td>4481</td>\n",
              "      <td>2661.2</td>\n",
              "      <td>NaN</td>\n",
              "      <td>1730.0</td>\n",
              "      <td>0.0</td>\n",
              "      <td>0.0</td>\n",
              "      <td>89.6</td>\n",
              "      <td>0.2</td>\n",
              "      <td>Ariquemes</td>\n",
              "      <td>Rondônia</td>\n",
              "    </tr>\n",
              "    <tr>\n",
              "      <th>2</th>\n",
              "      <td>2000</td>\n",
              "      <td>1100031</td>\n",
              "      <td>1322</td>\n",
              "      <td>851.2</td>\n",
              "      <td>NaN</td>\n",
              "      <td>455.2</td>\n",
              "      <td>0.0</td>\n",
              "      <td>0.6</td>\n",
              "      <td>11.3</td>\n",
              "      <td>3.7</td>\n",
              "      <td>Colorado do Oeste</td>\n",
              "      <td>Rondônia</td>\n",
              "    </tr>\n",
              "    <tr>\n",
              "      <th>3</th>\n",
              "      <td>2000</td>\n",
              "      <td>1100049</td>\n",
              "      <td>3821</td>\n",
              "      <td>2311.3</td>\n",
              "      <td>NaN</td>\n",
              "      <td>1477.7</td>\n",
              "      <td>0.0</td>\n",
              "      <td>0.0</td>\n",
              "      <td>26.2</td>\n",
              "      <td>5.8</td>\n",
              "      <td>Cacoal</td>\n",
              "      <td>Rondônia</td>\n",
              "    </tr>\n",
              "    <tr>\n",
              "      <th>4</th>\n",
              "      <td>2000</td>\n",
              "      <td>1100056</td>\n",
              "      <td>2805</td>\n",
              "      <td>731.3</td>\n",
              "      <td>NaN</td>\n",
              "      <td>829.3</td>\n",
              "      <td>0.0</td>\n",
              "      <td>0.0</td>\n",
              "      <td>1244.4</td>\n",
              "      <td>0.0</td>\n",
              "      <td>Colorado do Oeste</td>\n",
              "      <td>Rondônia</td>\n",
              "    </tr>\n",
              "  </tbody>\n",
              "</table>\n",
              "</div>\n",
              "    <div class=\"colab-df-buttons\">\n",
              "\n",
              "  <div class=\"colab-df-container\">\n",
              "    <button class=\"colab-df-convert\" onclick=\"convertToInteractive('df-ca04b413-180f-430a-ba53-68676d4e1de4')\"\n",
              "            title=\"Convert this dataframe to an interactive table.\"\n",
              "            style=\"display:none;\">\n",
              "\n",
              "  <svg xmlns=\"http://www.w3.org/2000/svg\" height=\"24px\" viewBox=\"0 -960 960 960\">\n",
              "    <path d=\"M120-120v-720h720v720H120Zm60-500h600v-160H180v160Zm220 220h160v-160H400v160Zm0 220h160v-160H400v160ZM180-400h160v-160H180v160Zm440 0h160v-160H620v160ZM180-180h160v-160H180v160Zm440 0h160v-160H620v160Z\"/>\n",
              "  </svg>\n",
              "    </button>\n",
              "\n",
              "  <style>\n",
              "    .colab-df-container {\n",
              "      display:flex;\n",
              "      gap: 12px;\n",
              "    }\n",
              "\n",
              "    .colab-df-convert {\n",
              "      background-color: #E8F0FE;\n",
              "      border: none;\n",
              "      border-radius: 50%;\n",
              "      cursor: pointer;\n",
              "      display: none;\n",
              "      fill: #1967D2;\n",
              "      height: 32px;\n",
              "      padding: 0 0 0 0;\n",
              "      width: 32px;\n",
              "    }\n",
              "\n",
              "    .colab-df-convert:hover {\n",
              "      background-color: #E2EBFA;\n",
              "      box-shadow: 0px 1px 2px rgba(60, 64, 67, 0.3), 0px 1px 3px 1px rgba(60, 64, 67, 0.15);\n",
              "      fill: #174EA6;\n",
              "    }\n",
              "\n",
              "    .colab-df-buttons div {\n",
              "      margin-bottom: 4px;\n",
              "    }\n",
              "\n",
              "    [theme=dark] .colab-df-convert {\n",
              "      background-color: #3B4455;\n",
              "      fill: #D2E3FC;\n",
              "    }\n",
              "\n",
              "    [theme=dark] .colab-df-convert:hover {\n",
              "      background-color: #434B5C;\n",
              "      box-shadow: 0px 1px 3px 1px rgba(0, 0, 0, 0.15);\n",
              "      filter: drop-shadow(0px 1px 2px rgba(0, 0, 0, 0.3));\n",
              "      fill: #FFFFFF;\n",
              "    }\n",
              "  </style>\n",
              "\n",
              "    <script>\n",
              "      const buttonEl =\n",
              "        document.querySelector('#df-ca04b413-180f-430a-ba53-68676d4e1de4 button.colab-df-convert');\n",
              "      buttonEl.style.display =\n",
              "        google.colab.kernel.accessAllowed ? 'block' : 'none';\n",
              "\n",
              "      async function convertToInteractive(key) {\n",
              "        const element = document.querySelector('#df-ca04b413-180f-430a-ba53-68676d4e1de4');\n",
              "        const dataTable =\n",
              "          await google.colab.kernel.invokeFunction('convertToInteractive',\n",
              "                                                    [key], {});\n",
              "        if (!dataTable) return;\n",
              "\n",
              "        const docLinkHtml = 'Like what you see? Visit the ' +\n",
              "          '<a target=\"_blank\" href=https://colab.research.google.com/notebooks/data_table.ipynb>data table notebook</a>'\n",
              "          + ' to learn more about interactive tables.';\n",
              "        element.innerHTML = '';\n",
              "        dataTable['output_type'] = 'display_data';\n",
              "        await google.colab.output.renderOutput(dataTable, element);\n",
              "        const docLink = document.createElement('div');\n",
              "        docLink.innerHTML = docLinkHtml;\n",
              "        element.appendChild(docLink);\n",
              "      }\n",
              "    </script>\n",
              "  </div>\n",
              "\n",
              "\n",
              "<div id=\"df-44cb6b13-4824-4b85-b780-69a46dd7f208\">\n",
              "  <button class=\"colab-df-quickchart\" onclick=\"quickchart('df-44cb6b13-4824-4b85-b780-69a46dd7f208')\"\n",
              "            title=\"Suggest charts\"\n",
              "            style=\"display:none;\">\n",
              "\n",
              "<svg xmlns=\"http://www.w3.org/2000/svg\" height=\"24px\"viewBox=\"0 0 24 24\"\n",
              "     width=\"24px\">\n",
              "    <g>\n",
              "        <path d=\"M19 3H5c-1.1 0-2 .9-2 2v14c0 1.1.9 2 2 2h14c1.1 0 2-.9 2-2V5c0-1.1-.9-2-2-2zM9 17H7v-7h2v7zm4 0h-2V7h2v10zm4 0h-2v-4h2v4z\"/>\n",
              "    </g>\n",
              "</svg>\n",
              "  </button>\n",
              "\n",
              "<style>\n",
              "  .colab-df-quickchart {\n",
              "      --bg-color: #E8F0FE;\n",
              "      --fill-color: #1967D2;\n",
              "      --hover-bg-color: #E2EBFA;\n",
              "      --hover-fill-color: #174EA6;\n",
              "      --disabled-fill-color: #AAA;\n",
              "      --disabled-bg-color: #DDD;\n",
              "  }\n",
              "\n",
              "  [theme=dark] .colab-df-quickchart {\n",
              "      --bg-color: #3B4455;\n",
              "      --fill-color: #D2E3FC;\n",
              "      --hover-bg-color: #434B5C;\n",
              "      --hover-fill-color: #FFFFFF;\n",
              "      --disabled-bg-color: #3B4455;\n",
              "      --disabled-fill-color: #666;\n",
              "  }\n",
              "\n",
              "  .colab-df-quickchart {\n",
              "    background-color: var(--bg-color);\n",
              "    border: none;\n",
              "    border-radius: 50%;\n",
              "    cursor: pointer;\n",
              "    display: none;\n",
              "    fill: var(--fill-color);\n",
              "    height: 32px;\n",
              "    padding: 0;\n",
              "    width: 32px;\n",
              "  }\n",
              "\n",
              "  .colab-df-quickchart:hover {\n",
              "    background-color: var(--hover-bg-color);\n",
              "    box-shadow: 0 1px 2px rgba(60, 64, 67, 0.3), 0 1px 3px 1px rgba(60, 64, 67, 0.15);\n",
              "    fill: var(--button-hover-fill-color);\n",
              "  }\n",
              "\n",
              "  .colab-df-quickchart-complete:disabled,\n",
              "  .colab-df-quickchart-complete:disabled:hover {\n",
              "    background-color: var(--disabled-bg-color);\n",
              "    fill: var(--disabled-fill-color);\n",
              "    box-shadow: none;\n",
              "  }\n",
              "\n",
              "  .colab-df-spinner {\n",
              "    border: 2px solid var(--fill-color);\n",
              "    border-color: transparent;\n",
              "    border-bottom-color: var(--fill-color);\n",
              "    animation:\n",
              "      spin 1s steps(1) infinite;\n",
              "  }\n",
              "\n",
              "  @keyframes spin {\n",
              "    0% {\n",
              "      border-color: transparent;\n",
              "      border-bottom-color: var(--fill-color);\n",
              "      border-left-color: var(--fill-color);\n",
              "    }\n",
              "    20% {\n",
              "      border-color: transparent;\n",
              "      border-left-color: var(--fill-color);\n",
              "      border-top-color: var(--fill-color);\n",
              "    }\n",
              "    30% {\n",
              "      border-color: transparent;\n",
              "      border-left-color: var(--fill-color);\n",
              "      border-top-color: var(--fill-color);\n",
              "      border-right-color: var(--fill-color);\n",
              "    }\n",
              "    40% {\n",
              "      border-color: transparent;\n",
              "      border-right-color: var(--fill-color);\n",
              "      border-top-color: var(--fill-color);\n",
              "    }\n",
              "    60% {\n",
              "      border-color: transparent;\n",
              "      border-right-color: var(--fill-color);\n",
              "    }\n",
              "    80% {\n",
              "      border-color: transparent;\n",
              "      border-right-color: var(--fill-color);\n",
              "      border-bottom-color: var(--fill-color);\n",
              "    }\n",
              "    90% {\n",
              "      border-color: transparent;\n",
              "      border-bottom-color: var(--fill-color);\n",
              "    }\n",
              "  }\n",
              "</style>\n",
              "\n",
              "  <script>\n",
              "    async function quickchart(key) {\n",
              "      const quickchartButtonEl =\n",
              "        document.querySelector('#' + key + ' button');\n",
              "      quickchartButtonEl.disabled = true;  // To prevent multiple clicks.\n",
              "      quickchartButtonEl.classList.add('colab-df-spinner');\n",
              "      try {\n",
              "        const charts = await google.colab.kernel.invokeFunction(\n",
              "            'suggestCharts', [key], {});\n",
              "      } catch (error) {\n",
              "        console.error('Error during call to suggestCharts:', error);\n",
              "      }\n",
              "      quickchartButtonEl.classList.remove('colab-df-spinner');\n",
              "      quickchartButtonEl.classList.add('colab-df-quickchart-complete');\n",
              "    }\n",
              "    (() => {\n",
              "      let quickchartButtonEl =\n",
              "        document.querySelector('#df-44cb6b13-4824-4b85-b780-69a46dd7f208 button');\n",
              "      quickchartButtonEl.style.display =\n",
              "        google.colab.kernel.accessAllowed ? 'block' : 'none';\n",
              "    })();\n",
              "  </script>\n",
              "</div>\n",
              "    </div>\n",
              "  </div>\n"
            ]
          },
          "metadata": {},
          "execution_count": 32
        }
      ]
    },
    {
      "cell_type": "code",
      "source": [
        "mun.head()"
      ],
      "metadata": {
        "colab": {
          "base_uri": "https://localhost:8080/",
          "height": 206
        },
        "id": "8pvD1gGYlkFY",
        "outputId": "01f113d0-4af6-45e0-f614-e7b85b796693"
      },
      "id": "8pvD1gGYlkFY",
      "execution_count": 33,
      "outputs": [
        {
          "output_type": "execute_result",
          "data": {
            "text/plain": [
              "  Nome_Microrregião  Código Município Completo\n",
              "0            Cacoal                    1100015\n",
              "1            Cacoal                    1100379\n",
              "2         Ariquemes                    1100403\n",
              "3  Alvorada D'Oeste                    1100346\n",
              "4         Ariquemes                    1100023"
            ],
            "text/html": [
              "\n",
              "  <div id=\"df-839aff8a-febb-4bb8-97cc-5c1a06bd06aa\" class=\"colab-df-container\">\n",
              "    <div>\n",
              "<style scoped>\n",
              "    .dataframe tbody tr th:only-of-type {\n",
              "        vertical-align: middle;\n",
              "    }\n",
              "\n",
              "    .dataframe tbody tr th {\n",
              "        vertical-align: top;\n",
              "    }\n",
              "\n",
              "    .dataframe thead th {\n",
              "        text-align: right;\n",
              "    }\n",
              "</style>\n",
              "<table border=\"1\" class=\"dataframe\">\n",
              "  <thead>\n",
              "    <tr style=\"text-align: right;\">\n",
              "      <th></th>\n",
              "      <th>Nome_Microrregião</th>\n",
              "      <th>Código Município Completo</th>\n",
              "    </tr>\n",
              "  </thead>\n",
              "  <tbody>\n",
              "    <tr>\n",
              "      <th>0</th>\n",
              "      <td>Cacoal</td>\n",
              "      <td>1100015</td>\n",
              "    </tr>\n",
              "    <tr>\n",
              "      <th>1</th>\n",
              "      <td>Cacoal</td>\n",
              "      <td>1100379</td>\n",
              "    </tr>\n",
              "    <tr>\n",
              "      <th>2</th>\n",
              "      <td>Ariquemes</td>\n",
              "      <td>1100403</td>\n",
              "    </tr>\n",
              "    <tr>\n",
              "      <th>3</th>\n",
              "      <td>Alvorada D'Oeste</td>\n",
              "      <td>1100346</td>\n",
              "    </tr>\n",
              "    <tr>\n",
              "      <th>4</th>\n",
              "      <td>Ariquemes</td>\n",
              "      <td>1100023</td>\n",
              "    </tr>\n",
              "  </tbody>\n",
              "</table>\n",
              "</div>\n",
              "    <div class=\"colab-df-buttons\">\n",
              "\n",
              "  <div class=\"colab-df-container\">\n",
              "    <button class=\"colab-df-convert\" onclick=\"convertToInteractive('df-839aff8a-febb-4bb8-97cc-5c1a06bd06aa')\"\n",
              "            title=\"Convert this dataframe to an interactive table.\"\n",
              "            style=\"display:none;\">\n",
              "\n",
              "  <svg xmlns=\"http://www.w3.org/2000/svg\" height=\"24px\" viewBox=\"0 -960 960 960\">\n",
              "    <path d=\"M120-120v-720h720v720H120Zm60-500h600v-160H180v160Zm220 220h160v-160H400v160Zm0 220h160v-160H400v160ZM180-400h160v-160H180v160Zm440 0h160v-160H620v160ZM180-180h160v-160H180v160Zm440 0h160v-160H620v160Z\"/>\n",
              "  </svg>\n",
              "    </button>\n",
              "\n",
              "  <style>\n",
              "    .colab-df-container {\n",
              "      display:flex;\n",
              "      gap: 12px;\n",
              "    }\n",
              "\n",
              "    .colab-df-convert {\n",
              "      background-color: #E8F0FE;\n",
              "      border: none;\n",
              "      border-radius: 50%;\n",
              "      cursor: pointer;\n",
              "      display: none;\n",
              "      fill: #1967D2;\n",
              "      height: 32px;\n",
              "      padding: 0 0 0 0;\n",
              "      width: 32px;\n",
              "    }\n",
              "\n",
              "    .colab-df-convert:hover {\n",
              "      background-color: #E2EBFA;\n",
              "      box-shadow: 0px 1px 2px rgba(60, 64, 67, 0.3), 0px 1px 3px 1px rgba(60, 64, 67, 0.15);\n",
              "      fill: #174EA6;\n",
              "    }\n",
              "\n",
              "    .colab-df-buttons div {\n",
              "      margin-bottom: 4px;\n",
              "    }\n",
              "\n",
              "    [theme=dark] .colab-df-convert {\n",
              "      background-color: #3B4455;\n",
              "      fill: #D2E3FC;\n",
              "    }\n",
              "\n",
              "    [theme=dark] .colab-df-convert:hover {\n",
              "      background-color: #434B5C;\n",
              "      box-shadow: 0px 1px 3px 1px rgba(0, 0, 0, 0.15);\n",
              "      filter: drop-shadow(0px 1px 2px rgba(0, 0, 0, 0.3));\n",
              "      fill: #FFFFFF;\n",
              "    }\n",
              "  </style>\n",
              "\n",
              "    <script>\n",
              "      const buttonEl =\n",
              "        document.querySelector('#df-839aff8a-febb-4bb8-97cc-5c1a06bd06aa button.colab-df-convert');\n",
              "      buttonEl.style.display =\n",
              "        google.colab.kernel.accessAllowed ? 'block' : 'none';\n",
              "\n",
              "      async function convertToInteractive(key) {\n",
              "        const element = document.querySelector('#df-839aff8a-febb-4bb8-97cc-5c1a06bd06aa');\n",
              "        const dataTable =\n",
              "          await google.colab.kernel.invokeFunction('convertToInteractive',\n",
              "                                                    [key], {});\n",
              "        if (!dataTable) return;\n",
              "\n",
              "        const docLinkHtml = 'Like what you see? Visit the ' +\n",
              "          '<a target=\"_blank\" href=https://colab.research.google.com/notebooks/data_table.ipynb>data table notebook</a>'\n",
              "          + ' to learn more about interactive tables.';\n",
              "        element.innerHTML = '';\n",
              "        dataTable['output_type'] = 'display_data';\n",
              "        await google.colab.output.renderOutput(dataTable, element);\n",
              "        const docLink = document.createElement('div');\n",
              "        docLink.innerHTML = docLinkHtml;\n",
              "        element.appendChild(docLink);\n",
              "      }\n",
              "    </script>\n",
              "  </div>\n",
              "\n",
              "\n",
              "<div id=\"df-3c04e662-d41a-498e-a21f-300681e9bb94\">\n",
              "  <button class=\"colab-df-quickchart\" onclick=\"quickchart('df-3c04e662-d41a-498e-a21f-300681e9bb94')\"\n",
              "            title=\"Suggest charts\"\n",
              "            style=\"display:none;\">\n",
              "\n",
              "<svg xmlns=\"http://www.w3.org/2000/svg\" height=\"24px\"viewBox=\"0 0 24 24\"\n",
              "     width=\"24px\">\n",
              "    <g>\n",
              "        <path d=\"M19 3H5c-1.1 0-2 .9-2 2v14c0 1.1.9 2 2 2h14c1.1 0 2-.9 2-2V5c0-1.1-.9-2-2-2zM9 17H7v-7h2v7zm4 0h-2V7h2v10zm4 0h-2v-4h2v4z\"/>\n",
              "    </g>\n",
              "</svg>\n",
              "  </button>\n",
              "\n",
              "<style>\n",
              "  .colab-df-quickchart {\n",
              "      --bg-color: #E8F0FE;\n",
              "      --fill-color: #1967D2;\n",
              "      --hover-bg-color: #E2EBFA;\n",
              "      --hover-fill-color: #174EA6;\n",
              "      --disabled-fill-color: #AAA;\n",
              "      --disabled-bg-color: #DDD;\n",
              "  }\n",
              "\n",
              "  [theme=dark] .colab-df-quickchart {\n",
              "      --bg-color: #3B4455;\n",
              "      --fill-color: #D2E3FC;\n",
              "      --hover-bg-color: #434B5C;\n",
              "      --hover-fill-color: #FFFFFF;\n",
              "      --disabled-bg-color: #3B4455;\n",
              "      --disabled-fill-color: #666;\n",
              "  }\n",
              "\n",
              "  .colab-df-quickchart {\n",
              "    background-color: var(--bg-color);\n",
              "    border: none;\n",
              "    border-radius: 50%;\n",
              "    cursor: pointer;\n",
              "    display: none;\n",
              "    fill: var(--fill-color);\n",
              "    height: 32px;\n",
              "    padding: 0;\n",
              "    width: 32px;\n",
              "  }\n",
              "\n",
              "  .colab-df-quickchart:hover {\n",
              "    background-color: var(--hover-bg-color);\n",
              "    box-shadow: 0 1px 2px rgba(60, 64, 67, 0.3), 0 1px 3px 1px rgba(60, 64, 67, 0.15);\n",
              "    fill: var(--button-hover-fill-color);\n",
              "  }\n",
              "\n",
              "  .colab-df-quickchart-complete:disabled,\n",
              "  .colab-df-quickchart-complete:disabled:hover {\n",
              "    background-color: var(--disabled-bg-color);\n",
              "    fill: var(--disabled-fill-color);\n",
              "    box-shadow: none;\n",
              "  }\n",
              "\n",
              "  .colab-df-spinner {\n",
              "    border: 2px solid var(--fill-color);\n",
              "    border-color: transparent;\n",
              "    border-bottom-color: var(--fill-color);\n",
              "    animation:\n",
              "      spin 1s steps(1) infinite;\n",
              "  }\n",
              "\n",
              "  @keyframes spin {\n",
              "    0% {\n",
              "      border-color: transparent;\n",
              "      border-bottom-color: var(--fill-color);\n",
              "      border-left-color: var(--fill-color);\n",
              "    }\n",
              "    20% {\n",
              "      border-color: transparent;\n",
              "      border-left-color: var(--fill-color);\n",
              "      border-top-color: var(--fill-color);\n",
              "    }\n",
              "    30% {\n",
              "      border-color: transparent;\n",
              "      border-left-color: var(--fill-color);\n",
              "      border-top-color: var(--fill-color);\n",
              "      border-right-color: var(--fill-color);\n",
              "    }\n",
              "    40% {\n",
              "      border-color: transparent;\n",
              "      border-right-color: var(--fill-color);\n",
              "      border-top-color: var(--fill-color);\n",
              "    }\n",
              "    60% {\n",
              "      border-color: transparent;\n",
              "      border-right-color: var(--fill-color);\n",
              "    }\n",
              "    80% {\n",
              "      border-color: transparent;\n",
              "      border-right-color: var(--fill-color);\n",
              "      border-bottom-color: var(--fill-color);\n",
              "    }\n",
              "    90% {\n",
              "      border-color: transparent;\n",
              "      border-bottom-color: var(--fill-color);\n",
              "    }\n",
              "  }\n",
              "</style>\n",
              "\n",
              "  <script>\n",
              "    async function quickchart(key) {\n",
              "      const quickchartButtonEl =\n",
              "        document.querySelector('#' + key + ' button');\n",
              "      quickchartButtonEl.disabled = true;  // To prevent multiple clicks.\n",
              "      quickchartButtonEl.classList.add('colab-df-spinner');\n",
              "      try {\n",
              "        const charts = await google.colab.kernel.invokeFunction(\n",
              "            'suggestCharts', [key], {});\n",
              "      } catch (error) {\n",
              "        console.error('Error during call to suggestCharts:', error);\n",
              "      }\n",
              "      quickchartButtonEl.classList.remove('colab-df-spinner');\n",
              "      quickchartButtonEl.classList.add('colab-df-quickchart-complete');\n",
              "    }\n",
              "    (() => {\n",
              "      let quickchartButtonEl =\n",
              "        document.querySelector('#df-3c04e662-d41a-498e-a21f-300681e9bb94 button');\n",
              "      quickchartButtonEl.style.display =\n",
              "        google.colab.kernel.accessAllowed ? 'block' : 'none';\n",
              "    })();\n",
              "  </script>\n",
              "</div>\n",
              "    </div>\n",
              "  </div>\n"
            ]
          },
          "metadata": {},
          "execution_count": 33
        }
      ]
    },
    {
      "cell_type": "code",
      "source": [
        "states.head()"
      ],
      "metadata": {
        "colab": {
          "base_uri": "https://localhost:8080/",
          "height": 206
        },
        "id": "7O-hXLBMlj6Y",
        "outputId": "b3c066c3-1985-4cca-dd90-5cb8daebe99f"
      },
      "id": "7O-hXLBMlj6Y",
      "execution_count": 34,
      "outputs": [
        {
          "output_type": "execute_result",
          "data": {
            "text/plain": [
              "   estados_id   Estados\n",
              "0          11  Rondônia\n",
              "1          12      Acre\n",
              "2          13  Amazonas\n",
              "3          14   Roraima\n",
              "4          15      Pará"
            ],
            "text/html": [
              "\n",
              "  <div id=\"df-7aebe427-2ed1-4b9c-8246-9bbed15aae96\" class=\"colab-df-container\">\n",
              "    <div>\n",
              "<style scoped>\n",
              "    .dataframe tbody tr th:only-of-type {\n",
              "        vertical-align: middle;\n",
              "    }\n",
              "\n",
              "    .dataframe tbody tr th {\n",
              "        vertical-align: top;\n",
              "    }\n",
              "\n",
              "    .dataframe thead th {\n",
              "        text-align: right;\n",
              "    }\n",
              "</style>\n",
              "<table border=\"1\" class=\"dataframe\">\n",
              "  <thead>\n",
              "    <tr style=\"text-align: right;\">\n",
              "      <th></th>\n",
              "      <th>estados_id</th>\n",
              "      <th>Estados</th>\n",
              "    </tr>\n",
              "  </thead>\n",
              "  <tbody>\n",
              "    <tr>\n",
              "      <th>0</th>\n",
              "      <td>11</td>\n",
              "      <td>Rondônia</td>\n",
              "    </tr>\n",
              "    <tr>\n",
              "      <th>1</th>\n",
              "      <td>12</td>\n",
              "      <td>Acre</td>\n",
              "    </tr>\n",
              "    <tr>\n",
              "      <th>2</th>\n",
              "      <td>13</td>\n",
              "      <td>Amazonas</td>\n",
              "    </tr>\n",
              "    <tr>\n",
              "      <th>3</th>\n",
              "      <td>14</td>\n",
              "      <td>Roraima</td>\n",
              "    </tr>\n",
              "    <tr>\n",
              "      <th>4</th>\n",
              "      <td>15</td>\n",
              "      <td>Pará</td>\n",
              "    </tr>\n",
              "  </tbody>\n",
              "</table>\n",
              "</div>\n",
              "    <div class=\"colab-df-buttons\">\n",
              "\n",
              "  <div class=\"colab-df-container\">\n",
              "    <button class=\"colab-df-convert\" onclick=\"convertToInteractive('df-7aebe427-2ed1-4b9c-8246-9bbed15aae96')\"\n",
              "            title=\"Convert this dataframe to an interactive table.\"\n",
              "            style=\"display:none;\">\n",
              "\n",
              "  <svg xmlns=\"http://www.w3.org/2000/svg\" height=\"24px\" viewBox=\"0 -960 960 960\">\n",
              "    <path d=\"M120-120v-720h720v720H120Zm60-500h600v-160H180v160Zm220 220h160v-160H400v160Zm0 220h160v-160H400v160ZM180-400h160v-160H180v160Zm440 0h160v-160H620v160ZM180-180h160v-160H180v160Zm440 0h160v-160H620v160Z\"/>\n",
              "  </svg>\n",
              "    </button>\n",
              "\n",
              "  <style>\n",
              "    .colab-df-container {\n",
              "      display:flex;\n",
              "      gap: 12px;\n",
              "    }\n",
              "\n",
              "    .colab-df-convert {\n",
              "      background-color: #E8F0FE;\n",
              "      border: none;\n",
              "      border-radius: 50%;\n",
              "      cursor: pointer;\n",
              "      display: none;\n",
              "      fill: #1967D2;\n",
              "      height: 32px;\n",
              "      padding: 0 0 0 0;\n",
              "      width: 32px;\n",
              "    }\n",
              "\n",
              "    .colab-df-convert:hover {\n",
              "      background-color: #E2EBFA;\n",
              "      box-shadow: 0px 1px 2px rgba(60, 64, 67, 0.3), 0px 1px 3px 1px rgba(60, 64, 67, 0.15);\n",
              "      fill: #174EA6;\n",
              "    }\n",
              "\n",
              "    .colab-df-buttons div {\n",
              "      margin-bottom: 4px;\n",
              "    }\n",
              "\n",
              "    [theme=dark] .colab-df-convert {\n",
              "      background-color: #3B4455;\n",
              "      fill: #D2E3FC;\n",
              "    }\n",
              "\n",
              "    [theme=dark] .colab-df-convert:hover {\n",
              "      background-color: #434B5C;\n",
              "      box-shadow: 0px 1px 3px 1px rgba(0, 0, 0, 0.15);\n",
              "      filter: drop-shadow(0px 1px 2px rgba(0, 0, 0, 0.3));\n",
              "      fill: #FFFFFF;\n",
              "    }\n",
              "  </style>\n",
              "\n",
              "    <script>\n",
              "      const buttonEl =\n",
              "        document.querySelector('#df-7aebe427-2ed1-4b9c-8246-9bbed15aae96 button.colab-df-convert');\n",
              "      buttonEl.style.display =\n",
              "        google.colab.kernel.accessAllowed ? 'block' : 'none';\n",
              "\n",
              "      async function convertToInteractive(key) {\n",
              "        const element = document.querySelector('#df-7aebe427-2ed1-4b9c-8246-9bbed15aae96');\n",
              "        const dataTable =\n",
              "          await google.colab.kernel.invokeFunction('convertToInteractive',\n",
              "                                                    [key], {});\n",
              "        if (!dataTable) return;\n",
              "\n",
              "        const docLinkHtml = 'Like what you see? Visit the ' +\n",
              "          '<a target=\"_blank\" href=https://colab.research.google.com/notebooks/data_table.ipynb>data table notebook</a>'\n",
              "          + ' to learn more about interactive tables.';\n",
              "        element.innerHTML = '';\n",
              "        dataTable['output_type'] = 'display_data';\n",
              "        await google.colab.output.renderOutput(dataTable, element);\n",
              "        const docLink = document.createElement('div');\n",
              "        docLink.innerHTML = docLinkHtml;\n",
              "        element.appendChild(docLink);\n",
              "      }\n",
              "    </script>\n",
              "  </div>\n",
              "\n",
              "\n",
              "<div id=\"df-2ccb6ea8-c125-47db-951a-1b058ad2620f\">\n",
              "  <button class=\"colab-df-quickchart\" onclick=\"quickchart('df-2ccb6ea8-c125-47db-951a-1b058ad2620f')\"\n",
              "            title=\"Suggest charts\"\n",
              "            style=\"display:none;\">\n",
              "\n",
              "<svg xmlns=\"http://www.w3.org/2000/svg\" height=\"24px\"viewBox=\"0 0 24 24\"\n",
              "     width=\"24px\">\n",
              "    <g>\n",
              "        <path d=\"M19 3H5c-1.1 0-2 .9-2 2v14c0 1.1.9 2 2 2h14c1.1 0 2-.9 2-2V5c0-1.1-.9-2-2-2zM9 17H7v-7h2v7zm4 0h-2V7h2v10zm4 0h-2v-4h2v4z\"/>\n",
              "    </g>\n",
              "</svg>\n",
              "  </button>\n",
              "\n",
              "<style>\n",
              "  .colab-df-quickchart {\n",
              "      --bg-color: #E8F0FE;\n",
              "      --fill-color: #1967D2;\n",
              "      --hover-bg-color: #E2EBFA;\n",
              "      --hover-fill-color: #174EA6;\n",
              "      --disabled-fill-color: #AAA;\n",
              "      --disabled-bg-color: #DDD;\n",
              "  }\n",
              "\n",
              "  [theme=dark] .colab-df-quickchart {\n",
              "      --bg-color: #3B4455;\n",
              "      --fill-color: #D2E3FC;\n",
              "      --hover-bg-color: #434B5C;\n",
              "      --hover-fill-color: #FFFFFF;\n",
              "      --disabled-bg-color: #3B4455;\n",
              "      --disabled-fill-color: #666;\n",
              "  }\n",
              "\n",
              "  .colab-df-quickchart {\n",
              "    background-color: var(--bg-color);\n",
              "    border: none;\n",
              "    border-radius: 50%;\n",
              "    cursor: pointer;\n",
              "    display: none;\n",
              "    fill: var(--fill-color);\n",
              "    height: 32px;\n",
              "    padding: 0;\n",
              "    width: 32px;\n",
              "  }\n",
              "\n",
              "  .colab-df-quickchart:hover {\n",
              "    background-color: var(--hover-bg-color);\n",
              "    box-shadow: 0 1px 2px rgba(60, 64, 67, 0.3), 0 1px 3px 1px rgba(60, 64, 67, 0.15);\n",
              "    fill: var(--button-hover-fill-color);\n",
              "  }\n",
              "\n",
              "  .colab-df-quickchart-complete:disabled,\n",
              "  .colab-df-quickchart-complete:disabled:hover {\n",
              "    background-color: var(--disabled-bg-color);\n",
              "    fill: var(--disabled-fill-color);\n",
              "    box-shadow: none;\n",
              "  }\n",
              "\n",
              "  .colab-df-spinner {\n",
              "    border: 2px solid var(--fill-color);\n",
              "    border-color: transparent;\n",
              "    border-bottom-color: var(--fill-color);\n",
              "    animation:\n",
              "      spin 1s steps(1) infinite;\n",
              "  }\n",
              "\n",
              "  @keyframes spin {\n",
              "    0% {\n",
              "      border-color: transparent;\n",
              "      border-bottom-color: var(--fill-color);\n",
              "      border-left-color: var(--fill-color);\n",
              "    }\n",
              "    20% {\n",
              "      border-color: transparent;\n",
              "      border-left-color: var(--fill-color);\n",
              "      border-top-color: var(--fill-color);\n",
              "    }\n",
              "    30% {\n",
              "      border-color: transparent;\n",
              "      border-left-color: var(--fill-color);\n",
              "      border-top-color: var(--fill-color);\n",
              "      border-right-color: var(--fill-color);\n",
              "    }\n",
              "    40% {\n",
              "      border-color: transparent;\n",
              "      border-right-color: var(--fill-color);\n",
              "      border-top-color: var(--fill-color);\n",
              "    }\n",
              "    60% {\n",
              "      border-color: transparent;\n",
              "      border-right-color: var(--fill-color);\n",
              "    }\n",
              "    80% {\n",
              "      border-color: transparent;\n",
              "      border-right-color: var(--fill-color);\n",
              "      border-bottom-color: var(--fill-color);\n",
              "    }\n",
              "    90% {\n",
              "      border-color: transparent;\n",
              "      border-bottom-color: var(--fill-color);\n",
              "    }\n",
              "  }\n",
              "</style>\n",
              "\n",
              "  <script>\n",
              "    async function quickchart(key) {\n",
              "      const quickchartButtonEl =\n",
              "        document.querySelector('#' + key + ' button');\n",
              "      quickchartButtonEl.disabled = true;  // To prevent multiple clicks.\n",
              "      quickchartButtonEl.classList.add('colab-df-spinner');\n",
              "      try {\n",
              "        const charts = await google.colab.kernel.invokeFunction(\n",
              "            'suggestCharts', [key], {});\n",
              "      } catch (error) {\n",
              "        console.error('Error during call to suggestCharts:', error);\n",
              "      }\n",
              "      quickchartButtonEl.classList.remove('colab-df-spinner');\n",
              "      quickchartButtonEl.classList.add('colab-df-quickchart-complete');\n",
              "    }\n",
              "    (() => {\n",
              "      let quickchartButtonEl =\n",
              "        document.querySelector('#df-2ccb6ea8-c125-47db-951a-1b058ad2620f button');\n",
              "      quickchartButtonEl.style.display =\n",
              "        google.colab.kernel.accessAllowed ? 'block' : 'none';\n",
              "    })();\n",
              "  </script>\n",
              "</div>\n",
              "    </div>\n",
              "  </div>\n"
            ]
          },
          "metadata": {},
          "execution_count": 34
        }
      ]
    },
    {
      "cell_type": "markdown",
      "id": "335d88ad",
      "metadata": {
        "papermill": {
          "duration": 0.015487,
          "end_time": "2023-07-02T20:37:34.917107",
          "exception": false,
          "start_time": "2023-07-02T20:37:34.901620",
          "status": "completed"
        },
        "tags": [],
        "id": "335d88ad"
      },
      "source": [
        "#### The first thing that we're going to do is to make two new columns in the data.csv table this columns will cotain the county name and state. Thus we'll need the Counties.csv and states.csv tables to make it."
      ]
    },
    {
      "cell_type": "code",
      "execution_count": 5,
      "id": "10ad7a32",
      "metadata": {
        "execution": {
          "iopub.execute_input": "2023-07-02T20:37:34.950294Z",
          "iopub.status.busy": "2023-07-02T20:37:34.949893Z",
          "iopub.status.idle": "2023-07-02T20:37:34.955779Z",
          "shell.execute_reply": "2023-07-02T20:37:34.954879Z"
        },
        "papermill": {
          "duration": 0.025035,
          "end_time": "2023-07-02T20:37:34.957935",
          "exception": false,
          "start_time": "2023-07-02T20:37:34.932900",
          "status": "completed"
        },
        "tags": [],
        "id": "10ad7a32"
      },
      "outputs": [],
      "source": [
        "def call(number):\n",
        "    \"\"\"This fuction will use the first two characters of a number\n",
        "    and return all the matches from the states[\"estados_id\"] dataframe\"\"\"\n",
        "    num = str(number)[0:2]\n",
        "    num = int(num)\n",
        "    return states[states[\"estados_id\"] == num]"
      ]
    },
    {
      "cell_type": "code",
      "execution_count": 6,
      "id": "be978f15",
      "metadata": {
        "execution": {
          "iopub.execute_input": "2023-07-02T20:37:34.992447Z",
          "iopub.status.busy": "2023-07-02T20:37:34.992017Z",
          "iopub.status.idle": "2023-07-02T20:37:35.001989Z",
          "shell.execute_reply": "2023-07-02T20:37:35.000896Z"
        },
        "papermill": {
          "duration": 0.030912,
          "end_time": "2023-07-02T20:37:35.004396",
          "exception": false,
          "start_time": "2023-07-02T20:37:34.973484",
          "status": "completed"
        },
        "tags": [],
        "id": "be978f15"
      },
      "outputs": [],
      "source": [
        "def transform(df):\n",
        "    \"\"\"It creates two lists with the name of the county and its state\"\"\"\n",
        "    munic = []\n",
        "    esta = []\n",
        "    for i in range(len(df[\"id_municipio\"])):\n",
        "        ind = mun[mun[\"Código Município Completo\"] == df[\"id_municipio\"][i]][\"Nome_Microrregião\"].index[0]\n",
        "        nome_mun = mun[mun[\"Código Município Completo\"] == df[\"id_municipio\"][i]][\"Nome_Microrregião\"][ind]\n",
        "\n",
        "        ind_es = mun[mun[\"Código Município Completo\"] == df[\"id_municipio\"][i]][\"Código Município Completo\"][ind]\n",
        "        m = call(ind_es)[\"Estados\"].index[0]\n",
        "        nome_est = call(ind_es)[\"Estados\"][m]\n",
        "\n",
        "        munic.append(nome_mun)\n",
        "        esta.append(nome_est)\n",
        "    return munic, esta"
      ]
    },
    {
      "cell_type": "code",
      "execution_count": 7,
      "id": "1c81320e",
      "metadata": {
        "execution": {
          "iopub.execute_input": "2023-07-02T20:37:35.037992Z",
          "iopub.status.busy": "2023-07-02T20:37:35.036784Z",
          "iopub.status.idle": "2023-07-02T20:37:35.045490Z",
          "shell.execute_reply": "2023-07-02T20:37:35.044346Z"
        },
        "papermill": {
          "duration": 0.027944,
          "end_time": "2023-07-02T20:37:35.047948",
          "exception": false,
          "start_time": "2023-07-02T20:37:35.020004",
          "status": "completed"
        },
        "tags": [],
        "id": "1c81320e"
      },
      "outputs": [],
      "source": [
        "def stats_year(df,nome,Mean):\n",
        "    \"\"\"it returns the total sum of the nome column grouped\n",
        "    by the ano column\"\"\"\n",
        "    sum = df[[\"ano\",nome]].groupby(['ano']).sum()\n",
        "    media = sum[nome].mean()\n",
        "    vals = []\n",
        "    if Mean == False:\n",
        "        for k in sum[nome]:\n",
        "            vals.append(k)\n",
        "    else:\n",
        "        for k in sum[nome]:\n",
        "            vals.append(k/media)\n",
        "    return np.array(vals),sum.index"
      ]
    },
    {
      "cell_type": "code",
      "execution_count": 8,
      "id": "7d48d00c",
      "metadata": {
        "execution": {
          "iopub.execute_input": "2023-07-02T20:37:35.081809Z",
          "iopub.status.busy": "2023-07-02T20:37:35.081344Z",
          "iopub.status.idle": "2023-07-02T20:38:15.780657Z",
          "shell.execute_reply": "2023-07-02T20:38:15.779267Z"
        },
        "papermill": {
          "duration": 40.720645,
          "end_time": "2023-07-02T20:38:15.784535",
          "exception": false,
          "start_time": "2023-07-02T20:37:35.063890",
          "status": "completed"
        },
        "tags": [],
        "id": "7d48d00c"
      },
      "outputs": [],
      "source": [
        "lista_mun , lista_est = transform(df) #lets add the new columns to our dataset\n",
        "df[\"municipios\"] = lista_mun\n",
        "df[\"estados\"] = lista_est"
      ]
    },
    {
      "cell_type": "markdown",
      "id": "bae4a1c0",
      "metadata": {
        "papermill": {
          "duration": 0.015102,
          "end_time": "2023-07-02T20:38:15.815569",
          "exception": false,
          "start_time": "2023-07-02T20:38:15.800467",
          "status": "completed"
        },
        "tags": [],
        "id": "bae4a1c0"
      },
      "source": [
        "# Geting Statistical Insights\n",
        "In this section we'll study the correlation between some variables. We'll also analyze the relationship between deforestaion and forest area."
      ]
    },
    {
      "cell_type": "code",
      "execution_count": 9,
      "id": "a4d7ba70",
      "metadata": {
        "execution": {
          "iopub.execute_input": "2023-07-02T20:38:15.849786Z",
          "iopub.status.busy": "2023-07-02T20:38:15.849358Z",
          "iopub.status.idle": "2023-07-02T20:38:16.431280Z",
          "shell.execute_reply": "2023-07-02T20:38:16.430075Z"
        },
        "papermill": {
          "duration": 0.603216,
          "end_time": "2023-07-02T20:38:16.434288",
          "exception": false,
          "start_time": "2023-07-02T20:38:15.831072",
          "status": "completed"
        },
        "tags": [],
        "colab": {
          "base_uri": "https://localhost:8080/",
          "height": 595
        },
        "id": "a4d7ba70",
        "outputId": "82677b39-ca1c-48a1-a779-ee3ccddefc94"
      },
      "outputs": [
        {
          "output_type": "stream",
          "name": "stderr",
          "text": [
            "<ipython-input-9-859b9da22407>:2: FutureWarning: The default value of numeric_only in DataFrame.corr is deprecated. In a future version, it will default to False. Select only valid columns or specify the value of numeric_only to silence this warning.\n",
            "  corr = round(new.corr(),2)\n"
          ]
        },
        {
          "output_type": "execute_result",
          "data": {
            "text/plain": [
              "<Axes: >"
            ]
          },
          "metadata": {},
          "execution_count": 9
        },
        {
          "output_type": "display_data",
          "data": {
            "text/plain": [
              "<Figure size 900x500 with 2 Axes>"
            ],
            "image/png": "[encoded data removed]"
          },
          "metadata": {}
        }
      ],
      "source": [
        "new = df[[\"ano\",\"area\",\"desmatado\",\"floresta\",\"nuvem\",\"nao_observado\",\"nao_floresta\",\"hidrografia\",\"estados\",\"municipios\"]]\n",
        "corr = round(new.corr(),2)\n",
        "mask = np.triu(np.ones_like(corr, dtype=bool))\n",
        "f, ax = plt.subplots(figsize=(9, 5))\n",
        "\n",
        "sns.heatmap(corr, mask=mask, vmin=-1,vmax=1,annot = True)"
      ]
    },
    {
      "cell_type": "markdown",
      "id": "c20da4aa",
      "metadata": {
        "papermill": {
          "duration": 0.016463,
          "end_time": "2023-07-02T20:38:16.467310",
          "exception": false,
          "start_time": "2023-07-02T20:38:16.450847",
          "status": "completed"
        },
        "tags": [],
        "id": "c20da4aa"
      },
      "source": [
        "As we see from the correlation matrix above, there is a clear correlation between area and floresta (forest) which is expected since the more area the more forest it can have in. Besides there is a certain correlation between area and desmatado (deforestation) which is again expected."
      ]
    },
    {
      "cell_type": "code",
      "execution_count": 10,
      "id": "1dee9cb3",
      "metadata": {
        "execution": {
          "iopub.execute_input": "2023-07-02T20:38:16.502534Z",
          "iopub.status.busy": "2023-07-02T20:38:16.501666Z",
          "iopub.status.idle": "2023-07-02T20:38:16.775530Z",
          "shell.execute_reply": "2023-07-02T20:38:16.774433Z"
        },
        "papermill": {
          "duration": 0.294513,
          "end_time": "2023-07-02T20:38:16.778263",
          "exception": false,
          "start_time": "2023-07-02T20:38:16.483750",
          "status": "completed"
        },
        "tags": [],
        "colab": {
          "base_uri": "https://localhost:8080/",
          "height": 462
        },
        "id": "1dee9cb3",
        "outputId": "2045625b-2cf6-4c12-c70d-ff57b3e6b1b6"
      },
      "outputs": [
        {
          "output_type": "execute_result",
          "data": {
            "text/plain": [
              "<matplotlib.legend.Legend at 0x7ceadd858ee0>"
            ]
          },
          "metadata": {},
          "execution_count": 10
        },
        {
          "output_type": "display_data",
          "data": {
            "text/plain": [
              "<Figure size 900x500 with 1 Axes>"
            ],
            "image/png": "[encoded data removed]"
          },
          "metadata": {}
        }
      ],
      "source": [
        "lista1, anos1 = stats_year(df,\"desmatado\",True)\n",
        "lista2, anos2 = stats_year(df,\"floresta\",True)\n",
        "plt.figure(figsize=(9, 5))\n",
        "plt.plot(list(anos1),lista1,\"r\", label=\"Deforestation Rate of Change\")\n",
        "plt.plot(list(anos2),lista2,\"g\", label=\"Forest Area Rate of Change\")\n",
        "plt.ylabel(\"Percentage %\")\n",
        "plt.legend()"
      ]
    },
    {
      "cell_type": "markdown",
      "id": "1aea9475",
      "metadata": {
        "papermill": {
          "duration": 0.016942,
          "end_time": "2023-07-02T20:38:16.812569",
          "exception": false,
          "start_time": "2023-07-02T20:38:16.795627",
          "status": "completed"
        },
        "tags": [],
        "id": "1aea9475"
      },
      "source": [
        "The line plot shows to us that there is a anti-correlationship between deforestation and forest area. But this relationship is unclear from 2005 and beyond because the Forest Area starts to random variate it may be due to social-political response and bias measures."
      ]
    },
    {
      "cell_type": "markdown",
      "id": "2ccad044",
      "metadata": {
        "papermill": {
          "duration": 0.01909,
          "end_time": "2023-07-02T20:38:16.848918",
          "exception": false,
          "start_time": "2023-07-02T20:38:16.829828",
          "status": "completed"
        },
        "tags": [],
        "id": "2ccad044"
      },
      "source": [
        "# Findind The Counties with more deforestation\n",
        "Lets now find the counties with more deforestation for it we need create a new dataset with the deforestation rate and its respectively county."
      ]
    },
    {
      "cell_type": "code",
      "execution_count": 11,
      "id": "746d1ce5",
      "metadata": {
        "execution": {
          "iopub.execute_input": "2023-07-02T20:38:16.885957Z",
          "iopub.status.busy": "2023-07-02T20:38:16.885266Z",
          "iopub.status.idle": "2023-07-02T20:38:16.940440Z",
          "shell.execute_reply": "2023-07-02T20:38:16.939068Z"
        },
        "papermill": {
          "duration": 0.077019,
          "end_time": "2023-07-02T20:38:16.943438",
          "exception": false,
          "start_time": "2023-07-02T20:38:16.866419",
          "status": "completed"
        },
        "tags": [],
        "id": "746d1ce5"
      },
      "outputs": [],
      "source": [
        "anos = list(set(df[\"ano\"]))\n",
        "year = []\n",
        "desmat = []\n",
        "munic = []\n",
        "esta = []\n",
        "for ano in anos:\n",
        "\n",
        "  new = df[df[\"ano\"]==ano]\n",
        "  new  = new.sort_values(by=['desmatado'], ascending=False)\n",
        "\n",
        "  year.append(np.array(list(new.copy().iloc[0:10][\"ano\"])[:]))\n",
        "  desmat.append(np.array(list(new.copy().iloc[0:10][\"desmatado\"])[:]))\n",
        "  munic.append(np.array(list(new.copy().iloc[0:10][\"municipios\"])[:]))\n",
        "  esta.append(np.array(list(new.copy().iloc[0:10][\"estados\"])[:]))"
      ]
    },
    {
      "cell_type": "code",
      "execution_count": 12,
      "id": "8fa7daca",
      "metadata": {
        "execution": {
          "iopub.execute_input": "2023-07-02T20:38:16.980171Z",
          "iopub.status.busy": "2023-07-02T20:38:16.979731Z",
          "iopub.status.idle": "2023-07-02T20:38:17.011399Z",
          "shell.execute_reply": "2023-07-02T20:38:17.009803Z"
        },
        "papermill": {
          "duration": 0.053486,
          "end_time": "2023-07-02T20:38:17.014538",
          "exception": false,
          "start_time": "2023-07-02T20:38:16.961052",
          "status": "completed"
        },
        "tags": [],
        "colab": {
          "base_uri": "https://localhost:8080/",
          "height": 424
        },
        "id": "8fa7daca",
        "outputId": "27d56956-cda4-4aa1-b20f-1ac16a59c847"
      },
      "outputs": [
        {
          "output_type": "execute_result",
          "data": {
            "text/plain": [
              "      ano       estado  desmatado              municipio\n",
              "0    2000         Pará     7212.3            Paragominas\n",
              "1    2000         Pará     7037.4     São Félix do Xingu\n",
              "2    2000         Pará     5818.9                 Marabá\n",
              "3    2000  Mato Grosso     5520.7                 Arinos\n",
              "4    2000     Maranhâo     5373.3                Pindaré\n",
              "..    ...          ...        ...                    ...\n",
              "215  2021         Pará     8616.0                Tucuruí\n",
              "216  2021  Mato Grosso     8272.2                 Arinos\n",
              "217  2021         Pará     7528.9     São Félix do Xingu\n",
              "218  2021         Pará     7353.5  Conceição do Araguaia\n",
              "219  2021         Pará     7274.2               Itaituba\n",
              "\n",
              "[220 rows x 4 columns]"
            ],
            "text/html": [
              "\n",
              "  <div id=\"df-56ea7e78-fe96-41da-8c02-fe21907be069\" class=\"colab-df-container\">\n",
              "    <div>\n",
              "<style scoped>\n",
              "    .dataframe tbody tr th:only-of-type {\n",
              "        vertical-align: middle;\n",
              "    }\n",
              "\n",
              "    .dataframe tbody tr th {\n",
              "        vertical-align: top;\n",
              "    }\n",
              "\n",
              "    .dataframe thead th {\n",
              "        text-align: right;\n",
              "    }\n",
              "</style>\n",
              "<table border=\"1\" class=\"dataframe\">\n",
              "  <thead>\n",
              "    <tr style=\"text-align: right;\">\n",
              "      <th></th>\n",
              "      <th>ano</th>\n",
              "      <th>estado</th>\n",
              "      <th>desmatado</th>\n",
              "      <th>municipio</th>\n",
              "    </tr>\n",
              "  </thead>\n",
              "  <tbody>\n",
              "    <tr>\n",
              "      <th>0</th>\n",
              "      <td>2000</td>\n",
              "      <td>Pará</td>\n",
              "      <td>7212.3</td>\n",
              "      <td>Paragominas</td>\n",
              "    </tr>\n",
              "    <tr>\n",
              "      <th>1</th>\n",
              "      <td>2000</td>\n",
              "      <td>Pará</td>\n",
              "      <td>7037.4</td>\n",
              "      <td>São Félix do Xingu</td>\n",
              "    </tr>\n",
              "    <tr>\n",
              "      <th>2</th>\n",
              "      <td>2000</td>\n",
              "      <td>Pará</td>\n",
              "      <td>5818.9</td>\n",
              "      <td>Marabá</td>\n",
              "    </tr>\n",
              "    <tr>\n",
              "      <th>3</th>\n",
              "      <td>2000</td>\n",
              "      <td>Mato Grosso</td>\n",
              "      <td>5520.7</td>\n",
              "      <td>Arinos</td>\n",
              "    </tr>\n",
              "    <tr>\n",
              "      <th>4</th>\n",
              "      <td>2000</td>\n",
              "      <td>Maranhâo</td>\n",
              "      <td>5373.3</td>\n",
              "      <td>Pindaré</td>\n",
              "    </tr>\n",
              "    <tr>\n",
              "      <th>...</th>\n",
              "      <td>...</td>\n",
              "      <td>...</td>\n",
              "      <td>...</td>\n",
              "      <td>...</td>\n",
              "    </tr>\n",
              "    <tr>\n",
              "      <th>215</th>\n",
              "      <td>2021</td>\n",
              "      <td>Pará</td>\n",
              "      <td>8616.0</td>\n",
              "      <td>Tucuruí</td>\n",
              "    </tr>\n",
              "    <tr>\n",
              "      <th>216</th>\n",
              "      <td>2021</td>\n",
              "      <td>Mato Grosso</td>\n",
              "      <td>8272.2</td>\n",
              "      <td>Arinos</td>\n",
              "    </tr>\n",
              "    <tr>\n",
              "      <th>217</th>\n",
              "      <td>2021</td>\n",
              "      <td>Pará</td>\n",
              "      <td>7528.9</td>\n",
              "      <td>São Félix do Xingu</td>\n",
              "    </tr>\n",
              "    <tr>\n",
              "      <th>218</th>\n",
              "      <td>2021</td>\n",
              "      <td>Pará</td>\n",
              "      <td>7353.5</td>\n",
              "      <td>Conceição do Araguaia</td>\n",
              "    </tr>\n",
              "    <tr>\n",
              "      <th>219</th>\n",
              "      <td>2021</td>\n",
              "      <td>Pará</td>\n",
              "      <td>7274.2</td>\n",
              "      <td>Itaituba</td>\n",
              "    </tr>\n",
              "  </tbody>\n",
              "</table>\n",
              "<p>220 rows × 4 columns</p>\n",
              "</div>\n",
              "    <div class=\"colab-df-buttons\">\n",
              "\n",
              "  <div class=\"colab-df-container\">\n",
              "    <button class=\"colab-df-convert\" onclick=\"convertToInteractive('df-56ea7e78-fe96-41da-8c02-fe21907be069')\"\n",
              "            title=\"Convert this dataframe to an interactive table.\"\n",
              "            style=\"display:none;\">\n",
              "\n",
              "  <svg xmlns=\"http://www.w3.org/2000/svg\" height=\"24px\" viewBox=\"0 -960 960 960\">\n",
              "    <path d=\"M120-120v-720h720v720H120Zm60-500h600v-160H180v160Zm220 220h160v-160H400v160Zm0 220h160v-160H400v160ZM180-400h160v-160H180v160Zm440 0h160v-160H620v160ZM180-180h160v-160H180v160Zm440 0h160v-160H620v160Z\"/>\n",
              "  </svg>\n",
              "    </button>\n",
              "\n",
              "  <style>\n",
              "    .colab-df-container {\n",
              "      display:flex;\n",
              "      gap: 12px;\n",
              "    }\n",
              "\n",
              "    .colab-df-convert {\n",
              "      background-color: #E8F0FE;\n",
              "      border: none;\n",
              "      border-radius: 50%;\n",
              "      cursor: pointer;\n",
              "      display: none;\n",
              "      fill: #1967D2;\n",
              "      height: 32px;\n",
              "      padding: 0 0 0 0;\n",
              "      width: 32px;\n",
              "    }\n",
              "\n",
              "    .colab-df-convert:hover {\n",
              "      background-color: #E2EBFA;\n",
              "      box-shadow: 0px 1px 2px rgba(60, 64, 67, 0.3), 0px 1px 3px 1px rgba(60, 64, 67, 0.15);\n",
              "      fill: #174EA6;\n",
              "    }\n",
              "\n",
              "    .colab-df-buttons div {\n",
              "      margin-bottom: 4px;\n",
              "    }\n",
              "\n",
              "    [theme=dark] .colab-df-convert {\n",
              "      background-color: #3B4455;\n",
              "      fill: #D2E3FC;\n",
              "    }\n",
              "\n",
              "    [theme=dark] .colab-df-convert:hover {\n",
              "      background-color: #434B5C;\n",
              "      box-shadow: 0px 1px 3px 1px rgba(0, 0, 0, 0.15);\n",
              "      filter: drop-shadow(0px 1px 2px rgba(0, 0, 0, 0.3));\n",
              "      fill: #FFFFFF;\n",
              "    }\n",
              "  </style>\n",
              "\n",
              "    <script>\n",
              "      const buttonEl =\n",
              "        document.querySelector('#df-56ea7e78-fe96-41da-8c02-fe21907be069 button.colab-df-convert');\n",
              "      buttonEl.style.display =\n",
              "        google.colab.kernel.accessAllowed ? 'block' : 'none';\n",
              "\n",
              "      async function convertToInteractive(key) {\n",
              "        const element = document.querySelector('#df-56ea7e78-fe96-41da-8c02-fe21907be069');\n",
              "        const dataTable =\n",
              "          await google.colab.kernel.invokeFunction('convertToInteractive',\n",
              "                                                    [key], {});\n",
              "        if (!dataTable) return;\n",
              "\n",
              "        const docLinkHtml = 'Like what you see? Visit the ' +\n",
              "          '<a target=\"_blank\" href=https://colab.research.google.com/notebooks/data_table.ipynb>data table notebook</a>'\n",
              "          + ' to learn more about interactive tables.';\n",
              "        element.innerHTML = '';\n",
              "        dataTable['output_type'] = 'display_data';\n",
              "        await google.colab.output.renderOutput(dataTable, element);\n",
              "        const docLink = document.createElement('div');\n",
              "        docLink.innerHTML = docLinkHtml;\n",
              "        element.appendChild(docLink);\n",
              "      }\n",
              "    </script>\n",
              "  </div>\n",
              "\n",
              "\n",
              "<div id=\"df-4f3fea17-7a8c-44c2-821e-2512cbdb94f3\">\n",
              "  <button class=\"colab-df-quickchart\" onclick=\"quickchart('df-4f3fea17-7a8c-44c2-821e-2512cbdb94f3')\"\n",
              "            title=\"Suggest charts\"\n",
              "            style=\"display:none;\">\n",
              "\n",
              "<svg xmlns=\"http://www.w3.org/2000/svg\" height=\"24px\"viewBox=\"0 0 24 24\"\n",
              "     width=\"24px\">\n",
              "    <g>\n",
              "        <path d=\"M19 3H5c-1.1 0-2 .9-2 2v14c0 1.1.9 2 2 2h14c1.1 0 2-.9 2-2V5c0-1.1-.9-2-2-2zM9 17H7v-7h2v7zm4 0h-2V7h2v10zm4 0h-2v-4h2v4z\"/>\n",
              "    </g>\n",
              "</svg>\n",
              "  </button>\n",
              "\n",
              "<style>\n",
              "  .colab-df-quickchart {\n",
              "      --bg-color: #E8F0FE;\n",
              "      --fill-color: #1967D2;\n",
              "      --hover-bg-color: #E2EBFA;\n",
              "      --hover-fill-color: #174EA6;\n",
              "      --disabled-fill-color: #AAA;\n",
              "      --disabled-bg-color: #DDD;\n",
              "  }\n",
              "\n",
              "  [theme=dark] .colab-df-quickchart {\n",
              "      --bg-color: #3B4455;\n",
              "      --fill-color: #D2E3FC;\n",
              "      --hover-bg-color: #434B5C;\n",
              "      --hover-fill-color: #FFFFFF;\n",
              "      --disabled-bg-color: #3B4455;\n",
              "      --disabled-fill-color: #666;\n",
              "  }\n",
              "\n",
              "  .colab-df-quickchart {\n",
              "    background-color: var(--bg-color);\n",
              "    border: none;\n",
              "    border-radius: 50%;\n",
              "    cursor: pointer;\n",
              "    display: none;\n",
              "    fill: var(--fill-color);\n",
              "    height: 32px;\n",
              "    padding: 0;\n",
              "    width: 32px;\n",
              "  }\n",
              "\n",
              "  .colab-df-quickchart:hover {\n",
              "    background-color: var(--hover-bg-color);\n",
              "    box-shadow: 0 1px 2px rgba(60, 64, 67, 0.3), 0 1px 3px 1px rgba(60, 64, 67, 0.15);\n",
              "    fill: var(--button-hover-fill-color);\n",
              "  }\n",
              "\n",
              "  .colab-df-quickchart-complete:disabled,\n",
              "  .colab-df-quickchart-complete:disabled:hover {\n",
              "    background-color: var(--disabled-bg-color);\n",
              "    fill: var(--disabled-fill-color);\n",
              "    box-shadow: none;\n",
              "  }\n",
              "\n",
              "  .colab-df-spinner {\n",
              "    border: 2px solid var(--fill-color);\n",
              "    border-color: transparent;\n",
              "    border-bottom-color: var(--fill-color);\n",
              "    animation:\n",
              "      spin 1s steps(1) infinite;\n",
              "  }\n",
              "\n",
              "  @keyframes spin {\n",
              "    0% {\n",
              "      border-color: transparent;\n",
              "      border-bottom-color: var(--fill-color);\n",
              "      border-left-color: var(--fill-color);\n",
              "    }\n",
              "    20% {\n",
              "      border-color: transparent;\n",
              "      border-left-color: var(--fill-color);\n",
              "      border-top-color: var(--fill-color);\n",
              "    }\n",
              "    30% {\n",
              "      border-color: transparent;\n",
              "      border-left-color: var(--fill-color);\n",
              "      border-top-color: var(--fill-color);\n",
              "      border-right-color: var(--fill-color);\n",
              "    }\n",
              "    40% {\n",
              "      border-color: transparent;\n",
              "      border-right-color: var(--fill-color);\n",
              "      border-top-color: var(--fill-color);\n",
              "    }\n",
              "    60% {\n",
              "      border-color: transparent;\n",
              "      border-right-color: var(--fill-color);\n",
              "    }\n",
              "    80% {\n",
              "      border-color: transparent;\n",
              "      border-right-color: var(--fill-color);\n",
              "      border-bottom-color: var(--fill-color);\n",
              "    }\n",
              "    90% {\n",
              "      border-color: transparent;\n",
              "      border-bottom-color: var(--fill-color);\n",
              "    }\n",
              "  }\n",
              "</style>\n",
              "\n",
              "  <script>\n",
              "    async function quickchart(key) {\n",
              "      const quickchartButtonEl =\n",
              "        document.querySelector('#' + key + ' button');\n",
              "      quickchartButtonEl.disabled = true;  // To prevent multiple clicks.\n",
              "      quickchartButtonEl.classList.add('colab-df-spinner');\n",
              "      try {\n",
              "        const charts = await google.colab.kernel.invokeFunction(\n",
              "            'suggestCharts', [key], {});\n",
              "      } catch (error) {\n",
              "        console.error('Error during call to suggestCharts:', error);\n",
              "      }\n",
              "      quickchartButtonEl.classList.remove('colab-df-spinner');\n",
              "      quickchartButtonEl.classList.add('colab-df-quickchart-complete');\n",
              "    }\n",
              "    (() => {\n",
              "      let quickchartButtonEl =\n",
              "        document.querySelector('#df-4f3fea17-7a8c-44c2-821e-2512cbdb94f3 button');\n",
              "      quickchartButtonEl.style.display =\n",
              "        google.colab.kernel.accessAllowed ? 'block' : 'none';\n",
              "    })();\n",
              "  </script>\n",
              "</div>\n",
              "    </div>\n",
              "  </div>\n"
            ]
          },
          "metadata": {},
          "execution_count": 12
        }
      ],
      "source": [
        "dic = dict()\n",
        "dic[\"ano\"] = np.array(year).reshape(1,-1)[0]\n",
        "dic[\"estado\"] = np.array(esta).reshape(1,-1)[0]\n",
        "dic[\"desmatado\"] = np.array(desmat).reshape(1,-1)[0]\n",
        "dic[\"municipio\"] = np.array(munic).reshape(1,-1)[0]\n",
        "novo = pd.DataFrame(dic)\n",
        "novo"
      ]
    },
    {
      "cell_type": "code",
      "execution_count": 13,
      "id": "7284571a",
      "metadata": {
        "execution": {
          "iopub.execute_input": "2023-07-02T20:38:17.062140Z",
          "iopub.status.busy": "2023-07-02T20:38:17.061682Z",
          "iopub.status.idle": "2023-07-02T20:38:17.146442Z",
          "shell.execute_reply": "2023-07-02T20:38:17.145092Z"
        },
        "papermill": {
          "duration": 0.115518,
          "end_time": "2023-07-02T20:38:17.149400",
          "exception": false,
          "start_time": "2023-07-02T20:38:17.033882",
          "status": "completed"
        },
        "tags": [],
        "id": "7284571a"
      },
      "outputs": [],
      "source": [
        "muns = list(Counter(novo[\"municipio\"]))\n",
        "mat = []\n",
        "for i in range(len(muns)):\n",
        "\n",
        "  data = df[df[\"municipios\"] == muns[i]]\n",
        "  mat.append(stats_year(data,\"desmatado\",False)[0])"
      ]
    },
    {
      "cell_type": "code",
      "execution_count": 14,
      "id": "614fd8dc",
      "metadata": {
        "execution": {
          "iopub.execute_input": "2023-07-02T20:38:17.186394Z",
          "iopub.status.busy": "2023-07-02T20:38:17.185925Z",
          "iopub.status.idle": "2023-07-02T20:38:17.442990Z",
          "shell.execute_reply": "2023-07-02T20:38:17.441724Z"
        },
        "papermill": {
          "duration": 0.279858,
          "end_time": "2023-07-02T20:38:17.446986",
          "exception": false,
          "start_time": "2023-07-02T20:38:17.167128",
          "status": "completed"
        },
        "tags": [],
        "colab": {
          "base_uri": "https://localhost:8080/",
          "height": 676
        },
        "id": "614fd8dc",
        "outputId": "c4e2cb68-90e8-4b01-8879-bc005fb764a8"
      },
      "outputs": [
        {
          "output_type": "display_data",
          "data": {
            "text/plain": [
              "<Figure size 1500x800 with 1 Axes>"
            ],
            "image/png": "[encoded data removed]"
          },
          "metadata": {}
        }
      ],
      "source": [
        "plt.figure(figsize=(15, 8))\n",
        "for i in range(len(muns)):\n",
        "\n",
        "  if muns[i] == \"São Félix do Xingu\":\n",
        "    plt.plot(list(set(novo.ano)),mat[i])\n",
        "    plt.text(list(set(novo.ano))[-1]-4, mat[i][-1]-1000, str(muns[i]), fontsize = 10)\n",
        "  elif muns[i] == \"Arinos\":\n",
        "    plt.plot(list(set(novo.ano)),mat[i])\n",
        "    plt.text(list(set(novo.ano))[-1]-4, mat[i][-1], str(muns[i]), fontsize = 10)\n",
        "  else:\n",
        "    plt.plot(list(set(novo.ano)),mat[i])\n",
        "    plt.text(list(set(novo.ano))[-1], mat[i][-1], str(muns[i]), fontsize = 10)\n",
        "plt.ylabel(\"Deforestation (Km^2)\",fontsize = 20)\n",
        "plt.show()"
      ]
    },
    {
      "cell_type": "markdown",
      "id": "f732e526",
      "metadata": {
        "papermill": {
          "duration": 0.018897,
          "end_time": "2023-07-02T20:38:17.486089",
          "exception": false,
          "start_time": "2023-07-02T20:38:17.467192",
          "status": "completed"
        },
        "tags": [],
        "id": "f732e526"
      },
      "source": [
        "As shown above the counties: São Félix do Xingu, Altamira and Pindaré,. Are the ones with a upward tendency for deforestation from the lasts years. Some others (Paragominas, Arinos,Imperatriz, etc) reached a plateau. But none of them reached a downward tendency yet.  "
      ]
    },
    {
      "cell_type": "markdown",
      "id": "61e6c302",
      "metadata": {
        "papermill": {
          "duration": 0.018758,
          "end_time": "2023-07-02T20:38:17.525355",
          "exception": false,
          "start_time": "2023-07-02T20:38:17.506597",
          "status": "completed"
        },
        "tags": [],
        "id": "61e6c302"
      },
      "source": [
        "# Predicting Future Deforestation\n",
        "Lets now use a Machine learning Algorithm to estimate the total states deforestation for 2022 and 2023. But first we need to make our traind set X from the previous dataset"
      ]
    },
    {
      "cell_type": "code",
      "execution_count": 15,
      "id": "102ba904",
      "metadata": {
        "execution": {
          "iopub.execute_input": "2023-07-02T20:38:17.566596Z",
          "iopub.status.busy": "2023-07-02T20:38:17.565290Z",
          "iopub.status.idle": "2023-07-02T20:38:17.637355Z",
          "shell.execute_reply": "2023-07-02T20:38:17.635887Z"
        },
        "papermill": {
          "duration": 0.09589,
          "end_time": "2023-07-02T20:38:17.640348",
          "exception": false,
          "start_time": "2023-07-02T20:38:17.544458",
          "status": "completed"
        },
        "tags": [],
        "id": "102ba904"
      },
      "outputs": [],
      "source": [
        "estd = list(Counter(df[\"estados\"]))\n",
        "mat = []\n",
        "for i in range(len(estd)):\n",
        "\n",
        "   data = df[df[\"estados\"] == estd[i]]\n",
        "   mat.append(stats_year(data,\"desmatado\",False)[0])\n",
        "\n",
        "ano = []\n",
        "est = []\n",
        "for estado in estd:\n",
        "  for i in range(2000,2022):\n",
        "    ano.append(i)\n",
        "    est.append(estado)"
      ]
    },
    {
      "cell_type": "code",
      "execution_count": 16,
      "id": "cccf7583",
      "metadata": {
        "execution": {
          "iopub.execute_input": "2023-07-02T20:38:17.681051Z",
          "iopub.status.busy": "2023-07-02T20:38:17.680557Z",
          "iopub.status.idle": "2023-07-02T20:38:17.692055Z",
          "shell.execute_reply": "2023-07-02T20:38:17.690524Z"
        },
        "papermill": {
          "duration": 0.035741,
          "end_time": "2023-07-02T20:38:17.695052",
          "exception": false,
          "start_time": "2023-07-02T20:38:17.659311",
          "status": "completed"
        },
        "tags": [],
        "id": "cccf7583"
      },
      "outputs": [],
      "source": [
        "d = {}\n",
        "d[\"ano\"] = ano\n",
        "d[\"estado\"] = est\n",
        "d[\"desmatado\"] = np.array(mat).reshape(1,-1)[0]\n",
        "\n",
        "X = pd.DataFrame(d)\n",
        "labels = list(Counter(X[\"estado\"]))\n",
        "\n",
        "X[\"estado\"] = LabelEncoder().fit_transform(X[\"estado\"])\n",
        "Y = X.pop(\"desmatado\")\n",
        "labels_encod = list(Counter(X[\"estado\"]))"
      ]
    },
    {
      "cell_type": "markdown",
      "id": "923b0448",
      "metadata": {
        "papermill": {
          "duration": 0.019292,
          "end_time": "2023-07-02T20:38:17.733286",
          "exception": false,
          "start_time": "2023-07-02T20:38:17.713994",
          "status": "completed"
        },
        "tags": [],
        "id": "923b0448"
      },
      "source": [
        " ## Model\n",
        "The model that I choose was a ensemble model with three models KNeighborsRegressor, SGDRegressor and BaggingRegressor. According to the big numbers law this three models mixied will result a more precision than use them separately."
      ]
    },
    {
      "cell_type": "code",
      "execution_count": 17,
      "id": "7f4f0b45",
      "metadata": {
        "execution": {
          "iopub.execute_input": "2023-07-02T20:38:17.775008Z",
          "iopub.status.busy": "2023-07-02T20:38:17.774559Z",
          "iopub.status.idle": "2023-07-02T20:38:17.784515Z",
          "shell.execute_reply": "2023-07-02T20:38:17.783599Z"
        },
        "papermill": {
          "duration": 0.033369,
          "end_time": "2023-07-02T20:38:17.787214",
          "exception": false,
          "start_time": "2023-07-02T20:38:17.753845",
          "status": "completed"
        },
        "tags": [],
        "id": "7f4f0b45"
      },
      "outputs": [],
      "source": [
        "scaler = StandardScaler()\n",
        "scaler.fit(X)\n",
        "X = scaler.transform(X)"
      ]
    },
    {
      "cell_type": "markdown",
      "id": "2a01bd64",
      "metadata": {
        "papermill": {
          "duration": 0.018668,
          "end_time": "2023-07-02T20:38:17.825026",
          "exception": false,
          "start_time": "2023-07-02T20:38:17.806358",
          "status": "completed"
        },
        "tags": [],
        "id": "2a01bd64"
      },
      "source": [
        "## Fine tune Hyperparameters\n",
        "Before we train our ensembe lets tune separately hyperparameters to the three models using GridSearchCV and then use VotingRegressor to train the model."
      ]
    },
    {
      "cell_type": "code",
      "execution_count": 18,
      "id": "93eb80ea",
      "metadata": {
        "execution": {
          "iopub.execute_input": "2023-07-02T20:38:17.865762Z",
          "iopub.status.busy": "2023-07-02T20:38:17.865080Z",
          "iopub.status.idle": "2023-07-02T20:38:17.873699Z",
          "shell.execute_reply": "2023-07-02T20:38:17.872731Z"
        },
        "papermill": {
          "duration": 0.032182,
          "end_time": "2023-07-02T20:38:17.876486",
          "exception": false,
          "start_time": "2023-07-02T20:38:17.844304",
          "status": "completed"
        },
        "tags": [],
        "id": "93eb80ea"
      },
      "outputs": [],
      "source": [
        "KN = KNeighborsRegressor()\n",
        "bag = BaggingRegressor()\n",
        "\n",
        "mod = GridSearchCV(estimator=KN,param_grid= {'n_neighbors':[1,2,3,4,5,6,7,8,9,10]},cv=2)\n",
        "\n",
        "mod2 = GridSearchCV(estimator=bag,param_grid= {'n_estimators':[100,120,130,150,180]},cv=2)\n",
        "\n",
        "mod3 = GridSearchCV(estimator=SGDRegressor(max_iter=1200,early_stopping=True),param_grid={'penalty':[\"l1\",\"l2\"]} ,cv=2)\n",
        "\n",
        "vot = VotingRegressor(estimators=[(\"kn\",mod),(\"bag\",mod2),(\"est\",mod3)])"
      ]
    },
    {
      "cell_type": "code",
      "execution_count": 19,
      "id": "c420f710",
      "metadata": {
        "execution": {
          "iopub.execute_input": "2023-07-02T20:38:17.917952Z",
          "iopub.status.busy": "2023-07-02T20:38:17.917281Z",
          "iopub.status.idle": "2023-07-02T20:38:17.924031Z",
          "shell.execute_reply": "2023-07-02T20:38:17.922965Z"
        },
        "papermill": {
          "duration": 0.031137,
          "end_time": "2023-07-02T20:38:17.926706",
          "exception": false,
          "start_time": "2023-07-02T20:38:17.895569",
          "status": "completed"
        },
        "tags": [],
        "id": "c420f710"
      },
      "outputs": [],
      "source": [
        "X_train,X_test,y_train,y_test=train_test_split(X,Y,test_size=0.1,random_state=True)"
      ]
    },
    {
      "cell_type": "code",
      "execution_count": 20,
      "id": "75465372",
      "metadata": {
        "execution": {
          "iopub.execute_input": "2023-07-02T20:38:17.968005Z",
          "iopub.status.busy": "2023-07-02T20:38:17.967252Z",
          "iopub.status.idle": "2023-07-02T20:38:21.189730Z",
          "shell.execute_reply": "2023-07-02T20:38:21.188668Z"
        },
        "papermill": {
          "duration": 3.246857,
          "end_time": "2023-07-02T20:38:21.192577",
          "exception": false,
          "start_time": "2023-07-02T20:38:17.945720",
          "status": "completed"
        },
        "tags": [],
        "colab": {
          "base_uri": "https://localhost:8080/",
          "height": 0
        },
        "id": "75465372",
        "outputId": "7ec6832e-1601-47d3-8106-7944532e231b"
      },
      "outputs": [
        {
          "output_type": "execute_result",
          "data": {
            "text/plain": [
              "0.8915152717911808"
            ]
          },
          "metadata": {},
          "execution_count": 20
        }
      ],
      "source": [
        "vot.fit(X_train,y_train)\n",
        "y_pred = vot.predict(X_test)\n",
        "metrics.r2_score(y_test,y_pred)"
      ]
    },
    {
      "cell_type": "markdown",
      "id": "7f3a18bc",
      "metadata": {
        "papermill": {
          "duration": 0.019216,
          "end_time": "2023-07-02T20:38:21.231298",
          "exception": false,
          "start_time": "2023-07-02T20:38:21.212082",
          "status": "completed"
        },
        "tags": [],
        "id": "7f3a18bc"
      },
      "source": [
        "##### Thus our R^2 is close to 0.89 which isn't bad considerig the training set size. Now lets predict the future states deforestation to 2022 and 2023. #####"
      ]
    },
    {
      "cell_type": "code",
      "execution_count": 21,
      "id": "a170ab46",
      "metadata": {
        "execution": {
          "iopub.execute_input": "2023-07-02T20:38:21.271412Z",
          "iopub.status.busy": "2023-07-02T20:38:21.271007Z",
          "iopub.status.idle": "2023-07-02T20:38:21.289255Z",
          "shell.execute_reply": "2023-07-02T20:38:21.287368Z"
        },
        "papermill": {
          "duration": 0.04137,
          "end_time": "2023-07-02T20:38:21.291851",
          "exception": false,
          "start_time": "2023-07-02T20:38:21.250481",
          "status": "completed"
        },
        "tags": [],
        "colab": {
          "base_uri": "https://localhost:8080/",
          "height": 0
        },
        "id": "a170ab46",
        "outputId": "c976684b-772e-4c7c-8f62-a85ad669ebb5"
      },
      "outputs": [
        {
          "output_type": "stream",
          "name": "stderr",
          "text": [
            "/usr/local/lib/python3.10/dist-packages/sklearn/base.py:439: UserWarning: X does not have valid feature names, but StandardScaler was fitted with feature names\n",
            "  warnings.warn(\n"
          ]
        }
      ],
      "source": [
        "m = []\n",
        "for i in labels_encod:\n",
        "  for year in range(2022,2024):\n",
        "      m.append([year,i])\n",
        "pred = scaler.transform(m)"
      ]
    },
    {
      "cell_type": "code",
      "execution_count": 22,
      "id": "311d0078",
      "metadata": {
        "execution": {
          "iopub.execute_input": "2023-07-02T20:38:21.332165Z",
          "iopub.status.busy": "2023-07-02T20:38:21.331686Z",
          "iopub.status.idle": "2023-07-02T20:38:21.354448Z",
          "shell.execute_reply": "2023-07-02T20:38:21.352918Z"
        },
        "papermill": {
          "duration": 0.046088,
          "end_time": "2023-07-02T20:38:21.357282",
          "exception": false,
          "start_time": "2023-07-02T20:38:21.311194",
          "status": "completed"
        },
        "tags": [],
        "id": "311d0078"
      },
      "outputs": [],
      "source": [
        "predic = vot.predict(pred)"
      ]
    },
    {
      "cell_type": "code",
      "execution_count": 23,
      "id": "7f58b140",
      "metadata": {
        "execution": {
          "iopub.execute_input": "2023-07-02T20:38:21.398776Z",
          "iopub.status.busy": "2023-07-02T20:38:21.397410Z",
          "iopub.status.idle": "2023-07-02T20:38:21.405218Z",
          "shell.execute_reply": "2023-07-02T20:38:21.403997Z"
        },
        "papermill": {
          "duration": 0.031162,
          "end_time": "2023-07-02T20:38:21.407835",
          "exception": false,
          "start_time": "2023-07-02T20:38:21.376673",
          "status": "completed"
        },
        "tags": [],
        "id": "7f58b140"
      },
      "outputs": [],
      "source": [
        "Df = pd.DataFrame(d)\n",
        "ano = [i for i in range(2000,2024)]"
      ]
    },
    {
      "cell_type": "code",
      "execution_count": 24,
      "id": "a702ea7a",
      "metadata": {
        "execution": {
          "iopub.execute_input": "2023-07-02T20:38:21.449476Z",
          "iopub.status.busy": "2023-07-02T20:38:21.448937Z",
          "iopub.status.idle": "2023-07-02T20:38:21.832664Z",
          "shell.execute_reply": "2023-07-02T20:38:21.831303Z"
        },
        "papermill": {
          "duration": 0.407655,
          "end_time": "2023-07-02T20:38:21.835478",
          "exception": false,
          "start_time": "2023-07-02T20:38:21.427823",
          "status": "completed"
        },
        "tags": [],
        "colab": {
          "base_uri": "https://localhost:8080/",
          "height": 697
        },
        "id": "a702ea7a",
        "outputId": "fc9e7b43-0390-4c48-c57e-857f55ed1756"
      },
      "outputs": [
        {
          "output_type": "display_data",
          "data": {
            "text/plain": [
              "<Figure size 1500x800 with 1 Axes>"
            ],
            "image/png": "[encoded data removed]"
          },
          "metadata": {}
        }
      ],
      "source": [
        "plt.figure(figsize=(15,8))\n",
        "c = 0\n",
        "for i in labels:\n",
        "  dat = Df[Df[\"estado\"] == i]\n",
        "  es = list(dat[\"desmatado\"])\n",
        "  es.append(predic[c])\n",
        "  es.append(predic[c+1])\n",
        "  plt.plot(ano,es,label = i)\n",
        "  c+=2\n",
        "plt.axvline(2021, color='k', linestyle='--')\n",
        "plt.legend()\n",
        "plt.xticks(ano, rotation=45)\n",
        "plt.show()"
      ]
    },
    {
      "cell_type": "markdown",
      "id": "7e09f028",
      "metadata": {
        "papermill": {
          "duration": 0.019894,
          "end_time": "2023-07-02T20:38:21.876397",
          "exception": false,
          "start_time": "2023-07-02T20:38:21.856503",
          "status": "completed"
        },
        "tags": [],
        "id": "7e09f028"
      },
      "source": [
        "# Final Conclusions\n",
        "From the finds shown previously we can conclude that.\n",
        "\n",
        "1. Amazon deforestation is currently in a high trend\n",
        "2. The Counties São Félix do Xingu, Altamira and Pindaré have one of the highest deforestation rates, currently.\n",
        "3. The states Pará and Mato Grosso have one of the highest deforestation rates, currently."
      ]
    },
    {
      "cell_type": "markdown",
      "id": "eac3d560",
      "metadata": {
        "papermill": {
          "duration": 0.020423,
          "end_time": "2023-07-02T20:38:21.957856",
          "exception": false,
          "start_time": "2023-07-02T20:38:21.937433",
          "status": "completed"
        },
        "tags": [],
        "id": "eac3d560"
      },
      "source": [
        "# Analysis and Performance of Regression Model\n",
        "\n",
        "This present work combined three distinct datasets to analyze the deforestation rate in the Amazon region from the years 2000 to 2020.\n",
        "\n",
        "After data preparation, the author used hyperparameters to calculate the best model with the aim of predicting the deforestation rate for the years 2022 and 2023.\n",
        "\n",
        "As a method of error analysis, only the R² calculation was used.\n",
        "\n",
        "We propose performing calculations for other error metrics to better evaluate the generated model.\n",
        "\n",
        "R² The R² calculates the percentage of variance that could be predicted by the regression model, that is, how \"close\" the actual measurements are to our model.\n",
        "\n",
        "The R² is inherently biased because, depending on the optimizer, it may use data correlation to erroneously increase the R² value. It can only be applied perfectly to models with only one input and does not respond well to overfitting."
      ]
    },
    {
      "cell_type": "markdown",
      "id": "46b0831f",
      "metadata": {
        "papermill": {
          "duration": 0.020013,
          "end_time": "2023-07-02T20:38:21.998445",
          "exception": false,
          "start_time": "2023-07-02T20:38:21.978432",
          "status": "completed"
        },
        "tags": [],
        "id": "46b0831f"
      },
      "source": [
        "**R²**\n",
        "O R² calcula qual a porcentagem da variança que pôde ser prevista pelo modelo de regressão, ou seja, o quão \"próximo\" as medidas reais estão do nosso modelo.\n",
        "\n",
        "O R² é por padrão enviesado, pois, dependendo do otimizador, pode utilizar a correlação dos dados para incrementar erroneamente o valor de R². Só pode ser aplicada perfeitamente em modelos com apenas uma entrada e não responde bem ao Overfitting."
      ]
    },
    {
      "cell_type": "code",
      "execution_count": 25,
      "id": "08213a6b",
      "metadata": {
        "execution": {
          "iopub.execute_input": "2023-07-02T20:38:22.042397Z",
          "iopub.status.busy": "2023-07-02T20:38:22.041242Z",
          "iopub.status.idle": "2023-07-02T20:38:22.061616Z",
          "shell.execute_reply": "2023-07-02T20:38:22.059908Z"
        },
        "papermill": {
          "duration": 0.04547,
          "end_time": "2023-07-02T20:38:22.064333",
          "exception": false,
          "start_time": "2023-07-02T20:38:22.018863",
          "status": "completed"
        },
        "tags": [],
        "colab": {
          "base_uri": "https://localhost:8080/",
          "height": 0
        },
        "id": "08213a6b",
        "outputId": "8ff88053-4a99-4b2d-b383-3874514700b6"
      },
      "outputs": [
        {
          "output_type": "stream",
          "name": "stdout",
          "text": [
            "R² =  0.8915152717911808\n"
          ]
        }
      ],
      "source": [
        "print(\"R² = \", metrics.r2_score(y_test,vot.predict(X_test)))"
      ]
    },
    {
      "cell_type": "markdown",
      "id": "f56a5950",
      "metadata": {
        "papermill": {
          "duration": 0.020965,
          "end_time": "2023-07-02T20:38:22.105743",
          "exception": false,
          "start_time": "2023-07-02T20:38:22.084778",
          "status": "completed"
        },
        "tags": [],
        "id": "f56a5950"
      },
      "source": [
        "Adjusted R²\n",
        "\n",
        "It is a more versatile and unbiased alternative measure compared to R². It also aims to represent the percentage of variance that a regression model possesses. However, it takes into account how much a feature contributes to the model.\n",
        "\n",
        "The formula for Adjusted R² can be written as:\n",
        "\n",
        "R²a = 1 - ((1-R²)*(N-1))/N-p-1\n",
        "\n",
        "where N is the number of samples,p is the number of features (input data of the model).\n",
        "\n",
        "Unlike R², Adjusted R² can be used with more precision and confidence. It can be applied to models with more than one input variable and does not exhibit bias."
      ]
    },
    {
      "cell_type": "code",
      "execution_count": 26,
      "id": "7238ab8c",
      "metadata": {
        "execution": {
          "iopub.execute_input": "2023-07-02T20:38:22.149346Z",
          "iopub.status.busy": "2023-07-02T20:38:22.148500Z",
          "iopub.status.idle": "2023-07-02T20:38:22.160885Z",
          "shell.execute_reply": "2023-07-02T20:38:22.159622Z"
        },
        "papermill": {
          "duration": 0.036819,
          "end_time": "2023-07-02T20:38:22.163334",
          "exception": false,
          "start_time": "2023-07-02T20:38:22.126515",
          "status": "completed"
        },
        "tags": [],
        "colab": {
          "base_uri": "https://localhost:8080/",
          "height": 0
        },
        "id": "7238ab8c",
        "outputId": "4aec1e32-db6c-4b33-fccd-2c34e856ca4c"
      },
      "outputs": [
        {
          "output_type": "stream",
          "name": "stdout",
          "text": [
            "R² Ajustado =  0.8787523625901433\n"
          ]
        }
      ],
      "source": [
        "def adjusted_r2(y_test, y_pred,X_train):\n",
        "  adj_r2 = (1 - ((1 - metrics.r2_score(y_test, y_pred)) * (len(y_test) - 1)) /\n",
        "          (len(y_test) - X_train.shape[1] - 1))\n",
        "\n",
        "  return adj_r2\n",
        "\n",
        "print(\"R² Ajustado = \", adjusted_r2(y_test, y_pred, X_train))"
      ]
    },
    {
      "cell_type": "markdown",
      "id": "64e19593",
      "metadata": {
        "papermill": {
          "duration": 0.020475,
          "end_time": "2023-07-02T20:38:22.204356",
          "exception": false,
          "start_time": "2023-07-02T20:38:22.183881",
          "status": "completed"
        },
        "tags": [],
        "id": "64e19593"
      },
      "source": [
        "Mean Squared Error (MSE)\n",
        "\n",
        "It is calculated based on the average of the squared errors of predictions. The higher the MSE value, the worse the model.\n",
        "\n",
        "It is useful when the problem domain does not tolerate large errors, as predictions that are far from the actual values significantly increase the measure's value. However, as it is a metric squared, it is challenging to interpret."
      ]
    },
    {
      "cell_type": "code",
      "execution_count": 27,
      "id": "b42b2628",
      "metadata": {
        "execution": {
          "iopub.execute_input": "2023-07-02T20:38:22.249332Z",
          "iopub.status.busy": "2023-07-02T20:38:22.248382Z",
          "iopub.status.idle": "2023-07-02T20:38:22.256846Z",
          "shell.execute_reply": "2023-07-02T20:38:22.255603Z"
        },
        "papermill": {
          "duration": 0.033133,
          "end_time": "2023-07-02T20:38:22.259392",
          "exception": false,
          "start_time": "2023-07-02T20:38:22.226259",
          "status": "completed"
        },
        "tags": [],
        "colab": {
          "base_uri": "https://localhost:8080/",
          "height": 0
        },
        "id": "b42b2628",
        "outputId": "083c19ce-7b19-4a06-df27-1a9d7a687af8"
      },
      "outputs": [
        {
          "output_type": "stream",
          "name": "stdout",
          "text": [
            "MSE =  666139389.4579426\n"
          ]
        }
      ],
      "source": [
        "MSE = metrics.mean_squared_error(y_test, y_pred)\n",
        "print(\"MSE = \", MSE)"
      ]
    },
    {
      "cell_type": "markdown",
      "id": "0d8198d3",
      "metadata": {
        "papermill": {
          "duration": 0.021099,
          "end_time": "2023-07-02T20:38:22.301569",
          "exception": false,
          "start_time": "2023-07-02T20:38:22.280470",
          "status": "completed"
        },
        "tags": [],
        "id": "0d8198d3"
      },
      "source": [
        "Root Mean Squared Error (RMSE)\n",
        "\n",
        "Similar to adjusted R², RMSE also aims to improve the interpretability of the metric by matching the unit of the data. To achieve this, the square root of MSE is taken.\n",
        "\n",
        "\n",
        "\n",
        "\n",
        "\n"
      ]
    },
    {
      "cell_type": "code",
      "execution_count": 28,
      "id": "8d23f7e3",
      "metadata": {
        "execution": {
          "iopub.execute_input": "2023-07-02T20:38:22.345304Z",
          "iopub.status.busy": "2023-07-02T20:38:22.344595Z",
          "iopub.status.idle": "2023-07-02T20:38:22.351574Z",
          "shell.execute_reply": "2023-07-02T20:38:22.350070Z"
        },
        "papermill": {
          "duration": 0.03157,
          "end_time": "2023-07-02T20:38:22.353991",
          "exception": false,
          "start_time": "2023-07-02T20:38:22.322421",
          "status": "completed"
        },
        "tags": [],
        "colab": {
          "base_uri": "https://localhost:8080/",
          "height": 0
        },
        "id": "8d23f7e3",
        "outputId": "94163368-b6b2-472a-d1f4-55b6ca24a24a"
      },
      "outputs": [
        {
          "output_type": "stream",
          "name": "stdout",
          "text": [
            "RMSE =  25809.676275729274\n"
          ]
        }
      ],
      "source": [
        "RMSE = np.sqrt(MSE)\n",
        "print(\"RMSE = \", RMSE)"
      ]
    },
    {
      "cell_type": "markdown",
      "id": "1e584c39",
      "metadata": {
        "papermill": {
          "duration": 0.020118,
          "end_time": "2023-07-02T20:38:22.394727",
          "exception": false,
          "start_time": "2023-07-02T20:38:22.374609",
          "status": "completed"
        },
        "tags": [],
        "id": "1e584c39"
      },
      "source": [
        "Mean Absolute Error (MAE)\n",
        "\n",
        "It is the average of the distances between predicted and actual values. Since it does not square the values, it is not recommended for sensitive problems. However, it is a robust metric for models that need to predict many data points or seasonal data.\n",
        "\n",
        "MAE does not readily identify outliers like MSE and RMSE, but its interpretation is more intuitive because it is in the same unit as the values being analyzed."
      ]
    },
    {
      "cell_type": "code",
      "execution_count": 29,
      "id": "28923c64",
      "metadata": {
        "execution": {
          "iopub.execute_input": "2023-07-02T20:38:22.438746Z",
          "iopub.status.busy": "2023-07-02T20:38:22.438025Z",
          "iopub.status.idle": "2023-07-02T20:38:22.445478Z",
          "shell.execute_reply": "2023-07-02T20:38:22.444491Z"
        },
        "papermill": {
          "duration": 0.032151,
          "end_time": "2023-07-02T20:38:22.447909",
          "exception": false,
          "start_time": "2023-07-02T20:38:22.415758",
          "status": "completed"
        },
        "tags": [],
        "colab": {
          "base_uri": "https://localhost:8080/",
          "height": 0
        },
        "id": "28923c64",
        "outputId": "31c1d0c1-edf8-416b-bbb7-7660b0ebc562"
      },
      "outputs": [
        {
          "output_type": "stream",
          "name": "stdout",
          "text": [
            "MAE =  19663.161770228882\n"
          ]
        }
      ],
      "source": [
        "MAE = metrics.mean_absolute_error(y_test,y_pred)\n",
        "print(\"MAE = \", MAE)"
      ]
    },
    {
      "cell_type": "markdown",
      "id": "6106266c",
      "metadata": {
        "papermill": {
          "duration": 0.020276,
          "end_time": "2023-07-02T20:38:22.488875",
          "exception": false,
          "start_time": "2023-07-02T20:38:22.468599",
          "status": "completed"
        },
        "tags": [],
        "id": "6106266c"
      },
      "source": [
        "Mean Absolute Percentage Error (MAPE)\n",
        "\n",
        "In contrast to other metrics, MAPE expresses a percentage obtained by dividing the difference between the predicted y value and the actual y value by the actual y value.\n",
        "\n",
        "As it is a percentage, it is easy to understand, but it may not perform as well with values that have a very wide possible range."
      ]
    },
    {
      "cell_type": "code",
      "execution_count": 30,
      "id": "884a0133",
      "metadata": {
        "execution": {
          "iopub.execute_input": "2023-07-02T20:38:22.533280Z",
          "iopub.status.busy": "2023-07-02T20:38:22.532433Z",
          "iopub.status.idle": "2023-07-02T20:38:22.540516Z",
          "shell.execute_reply": "2023-07-02T20:38:22.539378Z"
        },
        "papermill": {
          "duration": 0.034507,
          "end_time": "2023-07-02T20:38:22.544039",
          "exception": false,
          "start_time": "2023-07-02T20:38:22.509532",
          "status": "completed"
        },
        "tags": [],
        "colab": {
          "base_uri": "https://localhost:8080/",
          "height": 0
        },
        "id": "884a0133",
        "outputId": "9ab903df-1f0e-47b8-d0cd-9c73282e18ef"
      },
      "outputs": [
        {
          "output_type": "stream",
          "name": "stdout",
          "text": [
            "MAPE =  118.10274014302311\n"
          ]
        }
      ],
      "source": [
        "MAPE = np.mean(np.abs((y_test - y_pred) / y_test)) * 100\n",
        "\n",
        "print(\"MAPE = \", MAPE)"
      ]
    },
    {
      "cell_type": "markdown",
      "id": "f021fb3e",
      "metadata": {
        "papermill": {
          "duration": 0.020327,
          "end_time": "2023-07-02T20:38:22.585177",
          "exception": false,
          "start_time": "2023-07-02T20:38:22.564850",
          "status": "completed"
        },
        "tags": [],
        "id": "f021fb3e"
      },
      "source": [
        "Root Mean Squared Logarithmic Error (RMSLE)\n",
        "\n",
        "This error indicator is similar to RMSE, but it uses logarithms to avoid penalizing large differences between the predicted and actual values when both values are very large."
      ]
    },
    {
      "cell_type": "code",
      "execution_count": 31,
      "id": "74d04152",
      "metadata": {
        "execution": {
          "iopub.execute_input": "2023-07-02T20:38:22.628344Z",
          "iopub.status.busy": "2023-07-02T20:38:22.627924Z",
          "iopub.status.idle": "2023-07-02T20:38:22.635986Z",
          "shell.execute_reply": "2023-07-02T20:38:22.634807Z"
        },
        "papermill": {
          "duration": 0.032598,
          "end_time": "2023-07-02T20:38:22.638484",
          "exception": false,
          "start_time": "2023-07-02T20:38:22.605886",
          "status": "completed"
        },
        "tags": [],
        "colab": {
          "base_uri": "https://localhost:8080/",
          "height": 0
        },
        "id": "74d04152",
        "outputId": "899be8a4-7bc1-45b9-a381-525dfcac54a4"
      },
      "outputs": [
        {
          "output_type": "stream",
          "name": "stdout",
          "text": [
            "RMSLE =  0.6236277930267647\n"
          ]
        }
      ],
      "source": [
        "RMSLE = metrics.mean_squared_log_error(y_test,y_pred)\n",
        "print(\"RMSLE = \", RMSLE)"
      ]
    },
    {
      "cell_type": "markdown",
      "id": "8af06f6c",
      "metadata": {
        "papermill": {
          "duration": 0.020449,
          "end_time": "2023-07-02T20:38:22.721208",
          "exception": false,
          "start_time": "2023-07-02T20:38:22.700759",
          "status": "completed"
        },
        "tags": [],
        "id": "8af06f6c"
      },
      "source": [
        "# Final Considerations\n",
        "\n",
        "Considering what was covered in class and the study of various types of metrics for error calculation in regression models, it is evident that determining the best formula for this calculation is a complex task.\n",
        "\n",
        "Among all the tested metrics, R² and Adjusted R² seem to have easily understandable values and indicate that the model has good predictive behavior.\n",
        "\n",
        "On the other hand, MSE, RMSE, and MAE presented values that are difficult to interpret, even though RMSE and MAE are in the same unit as the prediction. Their results suggest that the model is performing poorly.\n",
        "\n",
        "MAPE and RMSLE, which provide values in percentage terms, also indicate that the model is not well-trained, with MAPE showing a 107% error and RMSLE showing a 56% error.\n",
        "\n",
        "Based on the obtained data and the difficulty of understanding some of the algorithms for error evaluation, I maintain the author's opinion, suggesting R² or Adjusted R² as metrics for the model."
      ]
    }
  ],
  "metadata": {
    "kernelspec": {
      "display_name": "Python 3",
      "language": "python",
      "name": "python3"
    },
    "language_info": {
      "codemirror_mode": {
        "name": "ipython",
        "version": 3
      },
      "file_extension": ".py",
      "mimetype": "text/x-python",
      "name": "python",
      "nbconvert_exporter": "python",
      "pygments_lexer": "ipython3",
      "version": "3.7.12"
    },
    "papermill": {
      "default_parameters": {},
      "duration": 62.765121,
      "end_time": "2023-07-02T20:38:23.566838",
      "environment_variables": {},
      "exception": null,
      "input_path": "__notebook__.ipynb",
      "output_path": "__notebook__.ipynb",
      "parameters": {},
      "start_time": "2023-07-02T20:37:20.801717",
      "version": "2.3.4"
    },
    "colab": {
      "provenance": []
    }
  },
  "nbformat": 4,
  "nbformat_minor": 5
}